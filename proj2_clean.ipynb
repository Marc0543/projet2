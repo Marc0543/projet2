{
 "cells": [
  {
   "cell_type": "code",
   "execution_count": 2,
   "id": "a8507ee0-2ea3-4825-924e-cc5db5561843",
   "metadata": {},
   "outputs": [],
   "source": [
    "import pandas as pd\n",
    "import matplotlib.pyplot as plt\n",
    "import seaborn as sns\n",
    "from scipy import stats"
   ]
  },
  {
   "cell_type": "code",
   "execution_count": 6,
   "id": "2bf2f0c9-9283-4439-9de9-7eb4c2ea4797",
   "metadata": {},
   "outputs": [],
   "source": [
    "bio = pd.read_csv(\"../dataset/Agriculture_biologique_final.csv\", sep =\"\\t\")\n",
    "env = pd.read_csv(\"../dataset/Impact environnemental_final.csv\", sep=\"\\t\",low_memory=False)\n",
    "qual = pd.read_csv(\"../dataset/Qualite nutritionnelle_final.csv\", sep=\"\\t\",low_memory=False)"
   ]
  },
  {
   "cell_type": "markdown",
   "id": "575bb40d-476a-43b4-ba43-e316cd031e04",
   "metadata": {},
   "source": [
    "# Nettoyage"
   ]
  },
  {
   "cell_type": "markdown",
   "id": "4e79f0c0-f936-47ee-83c7-bc20fa5b57f6",
   "metadata": {},
   "source": [
    "## Agriculture Biologique"
   ]
  },
  {
   "cell_type": "code",
   "execution_count": 8,
   "id": "f5692ff9-b549-4a15-b22c-285c12e84de3",
   "metadata": {},
   "outputs": [
    {
     "data": {
      "text/plain": [
       "product_name      7359\n",
       "brands_tags          0\n",
       "serving_size    377744\n",
       "est_bio              0\n",
       "dtype: int64"
      ]
     },
     "execution_count": 8,
     "metadata": {},
     "output_type": "execute_result"
    }
   ],
   "source": [
    "bio.isnull().sum()"
   ]
  },
  {
   "cell_type": "code",
   "execution_count": 9,
   "id": "bbdbf1c8-4951-49e9-bb7a-a363444255e8",
   "metadata": {},
   "outputs": [
    {
     "data": {
      "text/html": [
       "<div>\n",
       "<style scoped>\n",
       "    .dataframe tbody tr th:only-of-type {\n",
       "        vertical-align: middle;\n",
       "    }\n",
       "\n",
       "    .dataframe tbody tr th {\n",
       "        vertical-align: top;\n",
       "    }\n",
       "\n",
       "    .dataframe thead th {\n",
       "        text-align: right;\n",
       "    }\n",
       "</style>\n",
       "<table border=\"1\" class=\"dataframe\">\n",
       "  <thead>\n",
       "    <tr style=\"text-align: right;\">\n",
       "      <th></th>\n",
       "      <th>product_name</th>\n",
       "      <th>brands_tags</th>\n",
       "      <th>serving_size</th>\n",
       "      <th>est_bio</th>\n",
       "    </tr>\n",
       "  </thead>\n",
       "  <tbody>\n",
       "    <tr>\n",
       "      <th>count</th>\n",
       "      <td>456563</td>\n",
       "      <td>463922</td>\n",
       "      <td>86178</td>\n",
       "      <td>463922</td>\n",
       "    </tr>\n",
       "    <tr>\n",
       "      <th>unique</th>\n",
       "      <td>311711</td>\n",
       "      <td>58298</td>\n",
       "      <td>9267</td>\n",
       "      <td>2</td>\n",
       "    </tr>\n",
       "    <tr>\n",
       "      <th>top</th>\n",
       "      <td>Comté</td>\n",
       "      <td>carrefour</td>\n",
       "      <td>serving</td>\n",
       "      <td>False</td>\n",
       "    </tr>\n",
       "    <tr>\n",
       "      <th>freq</th>\n",
       "      <td>468</td>\n",
       "      <td>12445</td>\n",
       "      <td>10326</td>\n",
       "      <td>393476</td>\n",
       "    </tr>\n",
       "  </tbody>\n",
       "</table>\n",
       "</div>"
      ],
      "text/plain": [
       "       product_name brands_tags serving_size est_bio\n",
       "count        456563      463922        86178  463922\n",
       "unique       311711       58298         9267       2\n",
       "top           Comté   carrefour      serving   False\n",
       "freq            468       12445        10326  393476"
      ]
     },
     "execution_count": 9,
     "metadata": {},
     "output_type": "execute_result"
    }
   ],
   "source": [
    "bio.describe()"
   ]
  },
  {
   "cell_type": "code",
   "execution_count": null,
   "id": "bb922d96-ea6f-4a2a-aad8-e908ca13ee7f",
   "metadata": {},
   "outputs": [],
   "source": []
  }
 ],
 "metadata": {
  "kernelspec": {
   "display_name": "Python 3 (ipykernel)",
   "language": "python",
   "name": "python3"
  },
  "language_info": {
   "codemirror_mode": {
    "name": "ipython",
    "version": 3
   },
   "file_extension": ".py",
   "mimetype": "text/x-python",
   "name": "python",
   "nbconvert_exporter": "python",
   "pygments_lexer": "ipython3",
   "version": "3.11.3"
  }
 },
 "nbformat": 4,
 "nbformat_minor": 5
}
