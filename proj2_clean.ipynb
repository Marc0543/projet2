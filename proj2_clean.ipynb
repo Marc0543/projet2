{
 "cells": [
  {
   "cell_type": "code",
   "execution_count": 1,
   "id": "a8507ee0-2ea3-4825-924e-cc5db5561843",
   "metadata": {},
   "outputs": [],
   "source": [
    "import pandas as pd\n",
    "import matplotlib.pyplot as plt\n",
    "import seaborn as sns\n",
    "from scipy import stats"
   ]
  },
  {
   "cell_type": "code",
   "execution_count": 2,
   "id": "2bf2f0c9-9283-4439-9de9-7eb4c2ea4797",
   "metadata": {},
   "outputs": [],
   "source": [
    "bio = pd.read_csv(\"../dataset/Agriculture_biologique_final.csv\", sep =\"\\t\")\n",
    "env = pd.read_csv(\"../dataset/Impact environnemental_final.csv\", sep=\"\\t\",low_memory=False)\n",
    "qual = pd.read_csv(\"../dataset/Qualite nutritionnelle_final.csv\", sep=\"\\t\",low_memory=False)"
   ]
  },
  {
   "cell_type": "markdown",
   "id": "575bb40d-476a-43b4-ba43-e316cd031e04",
   "metadata": {},
   "source": [
    "# 0  Nettoyage"
   ]
  },
  {
   "cell_type": "markdown",
   "id": "4e79f0c0-f936-47ee-83c7-bc20fa5b57f6",
   "metadata": {},
   "source": [
    "## 0.1 Regroupement des datasets"
   ]
  },
  {
   "cell_type": "markdown",
   "id": "45991c59-1bed-4faa-a8a6-1fc448eed1a6",
   "metadata": {},
   "source": [
    "Colonnes communes env & qual"
   ]
  },
  {
   "cell_type": "code",
   "execution_count": 3,
   "id": "bbdbf1c8-4951-49e9-bb7a-a363444255e8",
   "metadata": {},
   "outputs": [
    {
     "data": {
      "text/plain": [
       "Index(['code', 'product_name', 'quantity', 'brands_tags', 'countries_tags',\n",
       "       'serving_size', 'image_url'],\n",
       "      dtype='object')"
      ]
     },
     "execution_count": 3,
     "metadata": {},
     "output_type": "execute_result"
    }
   ],
   "source": [
    "env.columns[env.columns.isin(qual.columns)]"
   ]
  },
  {
   "cell_type": "markdown",
   "id": "ac6aa779-df81-4097-ab67-414011f4161d",
   "metadata": {},
   "source": [
    "Merge des df env et qual"
   ]
  },
  {
   "cell_type": "code",
   "execution_count": 4,
   "id": "e20c7443-6bc8-45b0-824a-048cec88503a",
   "metadata": {},
   "outputs": [
    {
     "data": {
      "text/plain": [
       "Index(['code', 'product_name', 'quantity', 'brands_tags', 'countries_tags',\n",
       "       'serving_size', 'image_url', 'ecoscore_grade', 'est_plastique',\n",
       "       'est_palm', 'est_cocoa', 'ingredients_tags', 'nutriscore_grade',\n",
       "       'energy-kcal_100g', 'fat_100g', 'saturated-fat_100g', 'sugars_100g',\n",
       "       'proteins_100g', 'salt_100g', 'nb_nocif', 'merged_qual'],\n",
       "      dtype='object')"
      ]
     },
     "execution_count": 4,
     "metadata": {},
     "output_type": "execute_result"
    }
   ],
   "source": [
    "envqual = env.merge(qual, on = ['code', 'product_name', 'quantity', 'brands_tags', 'countries_tags','serving_size', 'image_url'], how='outer', indicator='merged_qual')\n",
    "envqual.columns"
   ]
  },
  {
   "cell_type": "markdown",
   "id": "1bb830b8-1023-460a-9363-eee3607b6a91",
   "metadata": {},
   "source": [
    "Colonnes communes envqual et bio"
   ]
  },
  {
   "cell_type": "code",
   "execution_count": 5,
   "id": "49a78f1f-1535-4c33-9228-7330dd260c46",
   "metadata": {},
   "outputs": [
    {
     "data": {
      "text/plain": [
       "Index(['product_name', 'brands_tags', 'serving_size'], dtype='object')"
      ]
     },
     "execution_count": 5,
     "metadata": {},
     "output_type": "execute_result"
    }
   ],
   "source": [
    "envqual.columns[envqual.columns.isin(bio.columns)]"
   ]
  },
  {
   "cell_type": "markdown",
   "id": "7d569f65-0991-463d-b7f3-76b90abcb256",
   "metadata": {},
   "source": [
    "Merge des df env et qual"
   ]
  },
  {
   "cell_type": "code",
   "execution_count": 6,
   "id": "e5d85004-8507-44b0-a43b-2df7b779ddc7",
   "metadata": {},
   "outputs": [
    {
     "data": {
      "text/plain": [
       "Index(['code', 'product_name', 'quantity', 'brands_tags', 'countries_tags',\n",
       "       'serving_size', 'image_url', 'ecoscore_grade', 'est_plastique',\n",
       "       'est_palm', 'est_cocoa', 'ingredients_tags', 'nutriscore_grade',\n",
       "       'energy-kcal_100g', 'fat_100g', 'saturated-fat_100g', 'sugars_100g',\n",
       "       'proteins_100g', 'salt_100g', 'nb_nocif', 'merged_qual', 'est_bio',\n",
       "       'merged_bio'],\n",
       "      dtype='object')"
      ]
     },
     "execution_count": 6,
     "metadata": {},
     "output_type": "execute_result"
    }
   ],
   "source": [
    "envqualbio = envqual.merge(bio, on=['product_name', 'brands_tags', 'serving_size'], how='outer', indicator='merged_bio')\n",
    "envqualbio.columns"
   ]
  },
  {
   "cell_type": "markdown",
   "id": "ac64801a-fb44-4e6b-901a-e9e7eb63fdc7",
   "metadata": {},
   "source": [
    "On supprime les doublons"
   ]
  },
  {
   "cell_type": "code",
   "execution_count": 7,
   "id": "fb95ffdd-05ab-45e3-a2aa-f736ec894e09",
   "metadata": {},
   "outputs": [
    {
     "data": {
      "text/plain": [
       "0"
      ]
     },
     "execution_count": 7,
     "metadata": {},
     "output_type": "execute_result"
    }
   ],
   "source": [
    "envqualbio = envqualbio.drop_duplicates()\n",
    "envqualbio.duplicated().sum()"
   ]
  },
  {
   "cell_type": "code",
   "execution_count": 8,
   "id": "bab2addc-a950-4383-bf0e-85beb1f4267a",
   "metadata": {},
   "outputs": [],
   "source": [
    "envqualbio.reset_index(inplace=True)"
   ]
  },
  {
   "cell_type": "code",
   "execution_count": 9,
   "id": "7a6f0428-07a2-4223-82a0-5c5c170fc249",
   "metadata": {},
   "outputs": [],
   "source": [
    "envqualbio.drop(columns='index',inplace=True)"
   ]
  },
  {
   "cell_type": "markdown",
   "id": "2f7a15df-4edd-4e9e-a90c-342551fd74ba",
   "metadata": {},
   "source": [
    "Gestion des valeurs manquantes"
   ]
  },
  {
   "cell_type": "markdown",
   "id": "1c872c38-c652-44c9-a863-e5b30c92069d",
   "metadata": {},
   "source": [
    "Pourcentage des valeurs manquantes par colonnes"
   ]
  },
  {
   "cell_type": "code",
   "execution_count": 10,
   "id": "61895768-b664-48bd-abba-ab3f92a18444",
   "metadata": {},
   "outputs": [
    {
     "data": {
      "text/plain": [
       "code                       0\n",
       "product_name           24354\n",
       "quantity              579572\n",
       "brands_tags           412045\n",
       "countries_tags             0\n",
       "serving_size          763369\n",
       "image_url              71750\n",
       "ecoscore_grade           662\n",
       "est_plastique              0\n",
       "est_palm                   0\n",
       "est_cocoa                  0\n",
       "ingredients_tags      596585\n",
       "nutriscore_grade      543571\n",
       "energy-kcal_100g      215440\n",
       "fat_100g              197506\n",
       "saturated-fat_100g    192288\n",
       "sugars_100g           192913\n",
       "proteins_100g         195686\n",
       "salt_100g             222287\n",
       "nb_nocif                   0\n",
       "merged_qual                0\n",
       "est_bio               412045\n",
       "merged_bio                 0\n",
       "dtype: int64"
      ]
     },
     "execution_count": 10,
     "metadata": {},
     "output_type": "execute_result"
    }
   ],
   "source": [
    "envqualbio.isnull().sum()"
   ]
  },
  {
   "cell_type": "code",
   "execution_count": 11,
   "id": "daf82100-575e-434d-a00a-d6eeb40874ea",
   "metadata": {},
   "outputs": [
    {
     "data": {
      "text/plain": [
       "(849616, 23)"
      ]
     },
     "execution_count": 11,
     "metadata": {},
     "output_type": "execute_result"
    }
   ],
   "source": [
    "envqualbio.shape"
   ]
  },
  {
   "cell_type": "markdown",
   "id": "dee93997-1e09-49d9-90d4-b261d9e4c686",
   "metadata": {},
   "source": [
    " Pourcentage de données nulles du tableau"
   ]
  },
  {
   "cell_type": "code",
   "execution_count": 12,
   "id": "1a9d027c-18ce-4e34-a027-bdafd9ab97ee",
   "metadata": {},
   "outputs": [
    {
     "data": {
      "text/plain": [
       "code                   0.000000\n",
       "product_name           2.866471\n",
       "quantity              68.215759\n",
       "brands_tags           48.497792\n",
       "countries_tags         0.000000\n",
       "serving_size          89.848708\n",
       "image_url              8.444992\n",
       "ecoscore_grade         0.077918\n",
       "est_plastique          0.000000\n",
       "est_palm               0.000000\n",
       "est_cocoa              0.000000\n",
       "ingredients_tags      70.218193\n",
       "nutriscore_grade      63.978433\n",
       "energy-kcal_100g      25.357338\n",
       "fat_100g              23.246502\n",
       "saturated-fat_100g    22.632342\n",
       "sugars_100g           22.705905\n",
       "proteins_100g         23.032288\n",
       "salt_100g             26.163231\n",
       "nb_nocif               0.000000\n",
       "merged_qual            0.000000\n",
       "est_bio               48.497792\n",
       "merged_bio             0.000000\n",
       "dtype: float64"
      ]
     },
     "execution_count": 12,
     "metadata": {},
     "output_type": "execute_result"
    }
   ],
   "source": [
    "envqualbio.isnull().sum() / envqualbio.shape[0] * 100"
   ]
  },
  {
   "cell_type": "markdown",
   "id": "cccdd856-dca2-4916-9a00-178ecc4dfbcd",
   "metadata": {},
   "source": [
    "# Partie test pour garder que (marque , produit) unique avec le plus d'info possible"
   ]
  },
  {
   "cell_type": "code",
   "execution_count": 64,
   "id": "b0a5a185-7d76-4235-a906-d4d93fe82ed9",
   "metadata": {},
   "outputs": [],
   "source": [
    "test = envqualbio.copy()"
   ]
  },
  {
   "cell_type": "code",
   "execution_count": 63,
   "id": "94e2e2d3-ee62-4c79-902f-c99011ccfcb6",
   "metadata": {},
   "outputs": [
    {
     "data": {
      "text/plain": [
       "0      a\n",
       "1    NaN\n",
       "2    NaN\n",
       "3    NaN\n",
       "4      a\n",
       "5    NaN\n",
       "6    NaN\n",
       "7    NaN\n",
       "8    NaN\n",
       "9    NaN\n",
       "Name: nutriscore_grade, dtype: object"
      ]
     },
     "execution_count": 63,
     "metadata": {},
     "output_type": "execute_result"
    }
   ],
   "source": [
    "testo = test.loc[test.index <10]\n",
    "def test_modif(row):\n",
    "    row.nutriscore_grade = 1\n",
    "    return row\n",
    "testo.apply(test_modif).nutriscore_grade"
   ]
  },
  {
   "cell_type": "code",
   "execution_count": null,
   "id": "c2324699-7400-4772-a5e4-ded5882e3332",
   "metadata": {},
   "outputs": [],
   "source": [
    "\n",
    "from statistics import mode\n",
    "def impute_nutscore(row):\n",
    "    if test.loc[row][row.nutriscore_grade] in ['a','d', 'e', 'b', 'c'] : \n",
    "        return row\n",
    "    else:\n",
    "        b = test.loc[test.product_name == row.product_name].loc[test.brands_tags == row.brands_tags].nutriscore_grade.unique()\n",
    "        b = list(dict.fromkeys(b))\n",
    "        if b != [nan]:\n",
    "            b = b.remove(nan)\n",
    "            row.nutriscore_grade = mode(b)\n",
    "            return row\n",
    "        else:\n",
    "            return row         \n",
    "test.apply(impute_nutscore)"
   ]
  },
  {
   "cell_type": "markdown",
   "id": "07ee5b1a-9eec-4df4-b3b7-4d9464515717",
   "metadata": {},
   "source": [
    "# Quelles sont les marques qui jouent le jeu et affichent le nutriscore ? Lesquelles ne le font pas?"
   ]
  },
  {
   "cell_type": "markdown",
   "id": "5707a366-7c27-4ae4-8832-81f93ca70550",
   "metadata": {},
   "source": [
    "On peut se poser la question de la pertinence de ce résultat, pour une marque qui ne dispose que d'un produit ( ou très peu ) ce sera souvent des marques locales, qu'un consommateur ne va pas forcémenet retrouver chez lui en grande surface. Et donc si ce produit n'a pas de nutriscore, la marque aura tout de suite un % de son produit sans nutriscore très élevé."
   ]
  },
  {
   "cell_type": "code",
   "execution_count": 19,
   "id": "a8bcc4f6-43a6-4492-8729-1a604243cc91",
   "metadata": {},
   "outputs": [
    {
     "data": {
      "text/plain": [
       "brands_tags\n",
       "0                            1.0\n",
       "lou-pastre                   1.0\n",
       "lou-passou-bio               1.0\n",
       "lou-meu-dou-canadeu          1.0\n",
       "lou-local                    1.0\n",
       "                            ... \n",
       "京都念慈菴-nin-jiomnin-jiom       NaN\n",
       "伍中,wu-chung                  NaN\n",
       "微记                           NaN\n",
       "谷优,gullon-biscuits,gullon    NaN\n",
       "데미-소다,demisoda               NaN\n",
       "Name: count, Length: 58298, dtype: float64"
      ]
     },
     "execution_count": 19,
     "metadata": {},
     "output_type": "execute_result"
    }
   ],
   "source": [
    "ratio_nutmiss_count = bad_marques.brands_tags.value_counts() / df_Wmarques.brands_tags.value_counts()\n",
    "ratio_nutmiss_count.sort_values(ascending=False)"
   ]
  },
  {
   "cell_type": "markdown",
   "id": "ae547e83-84fe-47d8-a9b8-d5a3cb4db631",
   "metadata": {},
   "source": [
    "# Quelles sont les marques qui ont le plus recours aux additifs nocifs ?"
   ]
  },
  {
   "cell_type": "code",
   "execution_count": 88,
   "id": "7f94d196-e58f-419b-a913-3c72e8125ce1",
   "metadata": {},
   "outputs": [
    {
     "data": {
      "text/plain": [
       "array([0., 1., 2.])"
      ]
     },
     "execution_count": 88,
     "metadata": {},
     "output_type": "execute_result"
    }
   ],
   "source": [
    "envqualbio.nb_nocif.unique()"
   ]
  },
  {
   "cell_type": "code",
   "execution_count": null,
   "id": "d2895c5d-1b12-4533-9ed5-3854b2431ea5",
   "metadata": {},
   "outputs": [],
   "source": [
    "LEs 10 marques ayant le plus recours aux produits"
   ]
  },
  {
   "cell_type": "code",
   "execution_count": 66,
   "id": "2bc6e601-6cf4-48b7-9d1c-1f533c1abcac",
   "metadata": {},
   "outputs": [
    {
     "data": {
      "text/plain": [
       "brands_tags\n",
       "sodastream          29.0\n",
       "nestle,sveltesse    10.0\n",
       "a-rom                9.0\n",
       "dove                 8.0\n",
       "nestle               7.0\n",
       "schweppes            7.0\n",
       "freeway              6.0\n",
       "eco                  4.0\n",
       "fruiss               4.0\n",
       "steff                4.0\n",
       "Name: nb_nocif, dtype: float64"
      ]
     },
     "execution_count": 66,
     "metadata": {},
     "output_type": "execute_result"
    }
   ],
   "source": [
    "envqualbio.groupby('brands_tags').nb_nocif.sum().sort_values(ascending= False)[:10]"
   ]
  },
  {
   "cell_type": "code",
   "execution_count": null,
   "id": "3e676dbd-0e78-4fab-8325-1b42584e3e74",
   "metadata": {},
   "outputs": [],
   "source": []
  }
 ],
 "metadata": {
  "kernelspec": {
   "display_name": "Python 3 (ipykernel)",
   "language": "python",
   "name": "python3"
  },
  "language_info": {
   "codemirror_mode": {
    "name": "ipython",
    "version": 3
   },
   "file_extension": ".py",
   "mimetype": "text/x-python",
   "name": "python",
   "nbconvert_exporter": "python",
   "pygments_lexer": "ipython3",
   "version": "3.11.3"
  }
 },
 "nbformat": 4,
 "nbformat_minor": 5
}
