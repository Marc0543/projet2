{
 "cells": [
  {
   "cell_type": "code",
   "execution_count": 1,
   "id": "a8507ee0-2ea3-4825-924e-cc5db5561843",
   "metadata": {},
   "outputs": [],
   "source": [
    "import pandas as pd\n",
    "import matplotlib.pyplot as plt\n",
    "import seaborn as sns\n",
    "from scipy import stats"
   ]
  },
  {
   "cell_type": "code",
   "execution_count": 2,
   "id": "2bf2f0c9-9283-4439-9de9-7eb4c2ea4797",
   "metadata": {},
   "outputs": [],
   "source": [
    "bio = pd.read_csv(\"../dataset/Agriculture_biologique_final.csv\", sep =\"\\t\")\n",
    "env = pd.read_csv(\"../dataset/Impact environnemental_final.csv\", sep=\"\\t\",low_memory=False)\n",
    "qual = pd.read_csv(\"../dataset/Qualite nutritionnelle_final.csv\", sep=\"\\t\",low_memory=False)"
   ]
  },
  {
   "cell_type": "markdown",
   "id": "575bb40d-476a-43b4-ba43-e316cd031e04",
   "metadata": {},
   "source": [
    "# 0  Nettoyage"
   ]
  },
  {
   "cell_type": "markdown",
   "id": "4e79f0c0-f936-47ee-83c7-bc20fa5b57f6",
   "metadata": {},
   "source": [
    "## 0.1 Regroupement des datasets"
   ]
  },
  {
   "cell_type": "markdown",
   "id": "45991c59-1bed-4faa-a8a6-1fc448eed1a6",
   "metadata": {},
   "source": [
    "Colonnes communes env & qual"
   ]
  },
  {
   "cell_type": "code",
   "execution_count": 3,
   "id": "bbdbf1c8-4951-49e9-bb7a-a363444255e8",
   "metadata": {},
   "outputs": [
    {
     "data": {
      "text/plain": [
       "Index(['code', 'product_name', 'quantity', 'brands_tags', 'countries_tags',\n",
       "       'serving_size', 'image_url'],\n",
       "      dtype='object')"
      ]
     },
     "execution_count": 3,
     "metadata": {},
     "output_type": "execute_result"
    }
   ],
   "source": [
    "env.columns[env.columns.isin(qual.columns)]"
   ]
  },
  {
   "cell_type": "markdown",
   "id": "ac6aa779-df81-4097-ab67-414011f4161d",
   "metadata": {},
   "source": [
    "Merge des df env et qual"
   ]
  },
  {
   "cell_type": "code",
   "execution_count": 4,
   "id": "e20c7443-6bc8-45b0-824a-048cec88503a",
   "metadata": {},
   "outputs": [
    {
     "data": {
      "text/plain": [
       "Index(['code', 'product_name', 'quantity', 'brands_tags', 'countries_tags',\n",
       "       'serving_size', 'image_url', 'ecoscore_grade', 'est_plastique',\n",
       "       'est_palm', 'est_cocoa', 'ingredients_tags', 'nutriscore_grade',\n",
       "       'energy-kcal_100g', 'fat_100g', 'saturated-fat_100g', 'sugars_100g',\n",
       "       'proteins_100g', 'salt_100g', 'nb_nocif', 'merged_qual'],\n",
       "      dtype='object')"
      ]
     },
     "execution_count": 4,
     "metadata": {},
     "output_type": "execute_result"
    }
   ],
   "source": [
    "envqual = env.merge(qual, on = ['code', 'product_name', 'quantity', 'brands_tags', 'countries_tags','serving_size', 'image_url'], how='outer', indicator='merged_qual')\n",
    "envqual.columns"
   ]
  },
  {
   "cell_type": "markdown",
   "id": "1bb830b8-1023-460a-9363-eee3607b6a91",
   "metadata": {},
   "source": [
    "Colonnes communes envqual et bio"
   ]
  },
  {
   "cell_type": "code",
   "execution_count": 5,
   "id": "49a78f1f-1535-4c33-9228-7330dd260c46",
   "metadata": {},
   "outputs": [
    {
     "data": {
      "text/plain": [
       "Index(['product_name', 'brands_tags', 'serving_size'], dtype='object')"
      ]
     },
     "execution_count": 5,
     "metadata": {},
     "output_type": "execute_result"
    }
   ],
   "source": [
    "envqual.columns[envqual.columns.isin(bio.columns)]"
   ]
  },
  {
   "cell_type": "markdown",
   "id": "7d569f65-0991-463d-b7f3-76b90abcb256",
   "metadata": {},
   "source": [
    "Merge des df env et qual"
   ]
  },
  {
   "cell_type": "code",
   "execution_count": 6,
   "id": "e5d85004-8507-44b0-a43b-2df7b779ddc7",
   "metadata": {},
   "outputs": [
    {
     "data": {
      "text/plain": [
       "Index(['code', 'product_name', 'quantity', 'brands_tags', 'countries_tags',\n",
       "       'serving_size', 'image_url', 'ecoscore_grade', 'est_plastique',\n",
       "       'est_palm', 'est_cocoa', 'ingredients_tags', 'nutriscore_grade',\n",
       "       'energy-kcal_100g', 'fat_100g', 'saturated-fat_100g', 'sugars_100g',\n",
       "       'proteins_100g', 'salt_100g', 'nb_nocif', 'merged_qual', 'est_bio',\n",
       "       'merged_bio'],\n",
       "      dtype='object')"
      ]
     },
     "execution_count": 6,
     "metadata": {},
     "output_type": "execute_result"
    }
   ],
   "source": [
    "envqualbio = envqual.merge(bio, on=['product_name', 'brands_tags', 'serving_size'], how='outer', indicator='merged_bio')\n",
    "envqualbio.columns"
   ]
  },
  {
   "cell_type": "markdown",
   "id": "ac64801a-fb44-4e6b-901a-e9e7eb63fdc7",
   "metadata": {},
   "source": [
    "On supprime les doublons"
   ]
  },
  {
   "cell_type": "code",
   "execution_count": 7,
   "id": "fb95ffdd-05ab-45e3-a2aa-f736ec894e09",
   "metadata": {},
   "outputs": [
    {
     "data": {
      "text/plain": [
       "0"
      ]
     },
     "execution_count": 7,
     "metadata": {},
     "output_type": "execute_result"
    }
   ],
   "source": [
    "envqualbio = envqualbio.drop_duplicates()\n",
    "envqualbio.duplicated().sum()"
   ]
  },
  {
   "cell_type": "code",
   "execution_count": 8,
   "id": "bab2addc-a950-4383-bf0e-85beb1f4267a",
   "metadata": {},
   "outputs": [],
   "source": [
    "envqualbio.reset_index(inplace=True)"
   ]
  },
  {
   "cell_type": "code",
   "execution_count": 9,
   "id": "7a6f0428-07a2-4223-82a0-5c5c170fc249",
   "metadata": {},
   "outputs": [],
   "source": [
    "envqualbio.drop(columns='index',inplace=True)"
   ]
  },
  {
   "cell_type": "markdown",
   "id": "2f7a15df-4edd-4e9e-a90c-342551fd74ba",
   "metadata": {},
   "source": [
    "Gestion des valeurs manquantes"
   ]
  },
  {
   "cell_type": "markdown",
   "id": "1c872c38-c652-44c9-a863-e5b30c92069d",
   "metadata": {},
   "source": [
    "Pourcentage des valeurs manquantes par colonnes"
   ]
  },
  {
   "cell_type": "code",
   "execution_count": 10,
   "id": "61895768-b664-48bd-abba-ab3f92a18444",
   "metadata": {},
   "outputs": [
    {
     "data": {
      "text/plain": [
       "code                       0\n",
       "product_name           24354\n",
       "quantity              579572\n",
       "brands_tags           412045\n",
       "countries_tags             0\n",
       "serving_size          763369\n",
       "image_url              71750\n",
       "ecoscore_grade           662\n",
       "est_plastique              0\n",
       "est_palm                   0\n",
       "est_cocoa                  0\n",
       "ingredients_tags      596585\n",
       "nutriscore_grade      543571\n",
       "energy-kcal_100g      215440\n",
       "fat_100g              197506\n",
       "saturated-fat_100g    192288\n",
       "sugars_100g           192913\n",
       "proteins_100g         195686\n",
       "salt_100g             222287\n",
       "nb_nocif                   0\n",
       "merged_qual                0\n",
       "est_bio               412045\n",
       "merged_bio                 0\n",
       "dtype: int64"
      ]
     },
     "execution_count": 10,
     "metadata": {},
     "output_type": "execute_result"
    }
   ],
   "source": [
    "envqualbio.isnull().sum()"
   ]
  },
  {
   "cell_type": "code",
   "execution_count": 13,
   "id": "daf82100-575e-434d-a00a-d6eeb40874ea",
   "metadata": {},
   "outputs": [
    {
     "data": {
      "text/plain": [
       "(849616, 23)"
      ]
     },
     "execution_count": 13,
     "metadata": {},
     "output_type": "execute_result"
    }
   ],
   "source": [
    "envqualbio.shape"
   ]
  },
  {
   "cell_type": "markdown",
   "id": "dee93997-1e09-49d9-90d4-b261d9e4c686",
   "metadata": {},
   "source": [
    " Pourcentage de données nulles du tableau"
   ]
  },
  {
   "cell_type": "code",
   "execution_count": 14,
   "id": "1a9d027c-18ce-4e34-a027-bdafd9ab97ee",
   "metadata": {},
   "outputs": [
    {
     "data": {
      "text/plain": [
       "code                   0.000000\n",
       "product_name           2.866471\n",
       "quantity              68.215759\n",
       "brands_tags           48.497792\n",
       "countries_tags         0.000000\n",
       "serving_size          89.848708\n",
       "image_url              8.444992\n",
       "ecoscore_grade         0.077918\n",
       "est_plastique          0.000000\n",
       "est_palm               0.000000\n",
       "est_cocoa              0.000000\n",
       "ingredients_tags      70.218193\n",
       "nutriscore_grade      63.978433\n",
       "energy-kcal_100g      25.357338\n",
       "fat_100g              23.246502\n",
       "saturated-fat_100g    22.632342\n",
       "sugars_100g           22.705905\n",
       "proteins_100g         23.032288\n",
       "salt_100g             26.163231\n",
       "nb_nocif               0.000000\n",
       "merged_qual            0.000000\n",
       "est_bio               48.497792\n",
       "merged_bio             0.000000\n",
       "dtype: float64"
      ]
     },
     "execution_count": 14,
     "metadata": {},
     "output_type": "execute_result"
    }
   ],
   "source": [
    "envqualbio.isnull().sum() / envqualbio.shape[0] * 100"
   ]
  },
  {
   "cell_type": "markdown",
   "id": "07ee5b1a-9eec-4df4-b3b7-4d9464515717",
   "metadata": {},
   "source": [
    "# Quelles sont les marques qui jouent le jeu et affichent le nutriscore ? Lesquelles ne le font pas?"
   ]
  },
  {
   "cell_type": "code",
   "execution_count": 12,
   "id": "09f6d268-af3a-4c0a-9452-ef4ef4397eba",
   "metadata": {},
   "outputs": [],
   "source": [
    "ind_brand_missing = envqualbio.loc[envqualbio.brands_tags.isnull()].index\n",
    "df_Wmarques= envqualbio.drop(index=ind_brand_missing)"
   ]
  },
  {
   "cell_type": "markdown",
   "id": "ae547e83-84fe-47d8-a9b8-d5a3cb4db631",
   "metadata": {},
   "source": [
    "# Quelles sont les marques qui ont le plus recours aux additifs nocifs ?"
   ]
  },
  {
   "cell_type": "code",
   "execution_count": 13,
   "id": "7f94d196-e58f-419b-a913-3c72e8125ce1",
   "metadata": {},
   "outputs": [
    {
     "data": {
      "text/plain": [
       "array([0., 1.])"
      ]
     },
     "execution_count": 13,
     "metadata": {},
     "output_type": "execute_result"
    }
   ],
   "source": [
    "df_Wmarques.nb_nocif.unique()"
   ]
  },
  {
   "cell_type": "markdown",
   "id": "4320cd79-e3c8-489c-be40-fd53cedea7bf",
   "metadata": {},
   "source": [
    "Les 10 marques ayant le plus recours aux produits nocifs"
   ]
  },
  {
   "cell_type": "code",
   "execution_count": 14,
   "id": "2bc6e601-6cf4-48b7-9d1c-1f533c1abcac",
   "metadata": {},
   "outputs": [
    {
     "data": {
      "text/plain": [
       "brands_tags\n",
       "sodastream          29.0\n",
       "nestle,sveltesse    10.0\n",
       "a-rom                9.0\n",
       "dove                 8.0\n",
       "nestle               7.0\n",
       "schweppes            7.0\n",
       "freeway              6.0\n",
       "eco                  4.0\n",
       "fruiss               4.0\n",
       "steff                4.0\n",
       "Name: nb_nocif, dtype: float64"
      ]
     },
     "execution_count": 14,
     "metadata": {},
     "output_type": "execute_result"
    }
   ],
   "source": [
    "df_Wmarques.groupby('brands_tags').nb_nocif.sum().sort_values(ascending= False)[:10]"
   ]
  },
  {
   "cell_type": "markdown",
   "id": "602ba7ac-e7bb-4c2a-a37c-fd514c71e305",
   "metadata": {},
   "source": [
    "# Quelles sont les marques qui jouent le jeu et affichent l'ecoscore ? Lesquelles ne le font pas?"
   ]
  },
  {
   "cell_type": "markdown",
   "id": "3b2bcb2d-2a0f-4177-9753-6d77e45d0efa",
   "metadata": {},
   "source": [
    "## Définition d'un seuil de nombre de produit par marque"
   ]
  },
  {
   "cell_type": "code",
   "execution_count": 15,
   "id": "6d71105a-cf63-4709-8afb-8e17180c383b",
   "metadata": {},
   "outputs": [],
   "source": [
    "seuil = 5\n",
    "marques_p = (df_Wmarques.groupby('brands_tags').product_name.count() > seuil).index\n",
    "df_gdemarq = df_Wmarques[df_Wmarques.brands_tags.isin(marques_p)]"
   ]
  },
  {
   "cell_type": "markdown",
   "id": "8695dcee-95bb-42f1-b8c3-d98827c4e9e0",
   "metadata": {},
   "source": [
    "## Marques présentant le plus de produits avec un ecoscore inconnu ou null"
   ]
  },
  {
   "cell_type": "code",
   "execution_count": 16,
   "id": "db07fd6d-a65f-4e80-84dd-0d95b6fb95aa",
   "metadata": {},
   "outputs": [
    {
     "data": {
      "text/plain": [
       "brands_tags\n",
       "carrefour                                 5819\n",
       "auchan                                    4316\n",
       "u                                         2215\n",
       "nestle                                    2028\n",
       "casino                                    1874\n",
       "                                          ... \n",
       "la-p-tite-fabrique-des-alpes                 1\n",
       "foie-gras-de-canard                          1\n",
       "les-3-terres,domaine-caroline-bonnefoy       1\n",
       "e-p-f                                        1\n",
       "vitaflor,milical                             1\n",
       "Name: count, Length: 35956, dtype: int64"
      ]
     },
     "execution_count": 16,
     "metadata": {},
     "output_type": "execute_result"
    }
   ],
   "source": [
    "count_nut_miss = df_gdemarq.brands_tags.loc[(df_gdemarq.ecoscore_grade.isin(['unknown'])) | (df_gdemarq.ecoscore_grade.isnull()) ].value_counts()\n",
    "count_nut_miss"
   ]
  },
  {
   "cell_type": "markdown",
   "id": "cb422677-b3c1-4d89-a8cc-720411669641",
   "metadata": {},
   "source": [
    "Ratio pour d'ecoscore absent pour les 10 marques présentants le plus de produits sans ecoscore"
   ]
  },
  {
   "cell_type": "code",
   "execution_count": 19,
   "id": "7ba485bf-cebe-43df-a0f0-c0086047b266",
   "metadata": {},
   "outputs": [
    {
     "data": {
      "text/plain": [
       "<Axes: xlabel='count', ylabel='count'>"
      ]
     },
     "execution_count": 19,
     "metadata": {},
     "output_type": "execute_result"
    },
    {
     "data": {
      "image/png": "[encoded data removed]",
      "text/plain": [
       "<Figure size 640x480 with 1 Axes>"
      ]
     },
     "metadata": {},
     "output_type": "display_data"
    }
   ],
   "source": [
    "ratio_eco_brand = count_nut_miss[:10] / df_gdemarq.brands_tags[df_gdemarq.brands_tags.isin(count_nut_miss[:10].index)].value_counts()\n",
    "sns.barplot(ratio_eco_brand.sort_values(ascending=False)[:10],x=ratio_eco_brand.sort_values(ascending=False).index[:10], y=ratio_eco_brand.sort_values(ascending=False)[:10])"
   ]
  },
  {
   "cell_type": "markdown",
   "id": "0a2ad50d-7bd3-4ccc-948c-e99e9722991f",
   "metadata": {},
   "source": [
    "## Marques qui utilisent le plus d'ecoscore"
   ]
  },
  {
   "cell_type": "code",
   "execution_count": 20,
   "id": "ac4135c4-18c7-46be-ab5f-2e7dff946e57",
   "metadata": {},
   "outputs": [
    {
     "data": {
      "text/plain": [
       "array(['d', 'unknown', 'c', 'b', 'not-applicable', 'a', 'e', nan],\n",
       "      dtype=object)"
      ]
     },
     "execution_count": 20,
     "metadata": {},
     "output_type": "execute_result"
    }
   ],
   "source": [
    "df_gdemarq.ecoscore_grade.unique()"
   ]
  },
  {
   "cell_type": "code",
   "execution_count": 21,
   "id": "67e589c0-66b9-4e47-82b4-3807b3edc6a6",
   "metadata": {},
   "outputs": [
    {
     "data": {
      "text/plain": [
       "brands_tags\n",
       "carrefour                             6512\n",
       "auchan                                6497\n",
       "u                                     4305\n",
       "casino                                2935\n",
       "leader-price                          2842\n",
       "                                      ... \n",
       "zielinger                                1\n",
       "collin-bourrisset                        1\n",
       "collin-bourisset                         1\n",
       "signe-vignerons,chateau-de-la-prat       1\n",
       "taf                                      1\n",
       "Name: count, Length: 34727, dtype: int64"
      ]
     },
     "execution_count": 21,
     "metadata": {},
     "output_type": "execute_result"
    }
   ],
   "source": [
    "count_nut_W = df_gdemarq.brands_tags.loc[df_gdemarq.ecoscore_grade.isin(['d','c', 'b', 'not-applicable', 'a', 'e'])].value_counts()\n",
    "count_nut_W"
   ]
  },
  {
   "cell_type": "code",
   "execution_count": 22,
   "id": "cc358df4-66fe-40ec-b9dd-17a3779a20fd",
   "metadata": {},
   "outputs": [
    {
     "data": {
      "text/plain": [
       "brands_tags\n",
       "belle-france    0.827442\n",
       "franprix        0.715640\n",
       "le-gaulois      0.696796\n",
       "u               0.660276\n",
       "cora            0.645500\n",
       "leader-price    0.635368\n",
       "monoprix        0.626266\n",
       "casino          0.610314\n",
       "auchan          0.600851\n",
       "carrefour       0.528100\n",
       "Name: count, dtype: float64"
      ]
     },
     "execution_count": 22,
     "metadata": {},
     "output_type": "execute_result"
    }
   ],
   "source": [
    "ratio_eco_good = count_nut_W[:10] / df_gdemarq.brands_tags[df_gdemarq.brands_tags.isin(count_nut_W[:10].index)].value_counts()\n",
    "ratio_eco_good.sort_values(ascending=False)"
   ]
  },
  {
   "cell_type": "markdown",
   "id": "f363b0d4-2c2a-4990-8e63-0f3227240dbb",
   "metadata": {},
   "source": [
    "# Quelles sont les marques qui semblent le plus respectueuses de l'environnement ? le moins?"
   ]
  },
  {
   "cell_type": "code",
   "execution_count": 23,
   "id": "f383ec7e-1f51-4dab-9694-bb73d6927795",
   "metadata": {},
   "outputs": [
    {
     "data": {
      "text/html": [
       "<div>\n",
       "<style scoped>\n",
       "    .dataframe tbody tr th:only-of-type {\n",
       "        vertical-align: middle;\n",
       "    }\n",
       "\n",
       "    .dataframe tbody tr th {\n",
       "        vertical-align: top;\n",
       "    }\n",
       "\n",
       "    .dataframe thead th {\n",
       "        text-align: right;\n",
       "    }\n",
       "</style>\n",
       "<table border=\"1\" class=\"dataframe\">\n",
       "  <thead>\n",
       "    <tr style=\"text-align: right;\">\n",
       "      <th></th>\n",
       "      <th>brands_tags</th>\n",
       "      <th>est_plastique</th>\n",
       "      <th>ecoscore_grade</th>\n",
       "      <th>est_palm</th>\n",
       "      <th>est_cocoa</th>\n",
       "    </tr>\n",
       "  </thead>\n",
       "  <tbody>\n",
       "    <tr>\n",
       "      <th>0</th>\n",
       "      <td>danone</td>\n",
       "      <td>False</td>\n",
       "      <td>d</td>\n",
       "      <td>False</td>\n",
       "      <td>False</td>\n",
       "    </tr>\n",
       "    <tr>\n",
       "      <th>1</th>\n",
       "      <td>danone</td>\n",
       "      <td>True</td>\n",
       "      <td>unknown</td>\n",
       "      <td>False</td>\n",
       "      <td>False</td>\n",
       "    </tr>\n",
       "    <tr>\n",
       "      <th>2</th>\n",
       "      <td>danone</td>\n",
       "      <td>False</td>\n",
       "      <td>d</td>\n",
       "      <td>False</td>\n",
       "      <td>False</td>\n",
       "    </tr>\n",
       "    <tr>\n",
       "      <th>3</th>\n",
       "      <td>danone</td>\n",
       "      <td>False</td>\n",
       "      <td>unknown</td>\n",
       "      <td>False</td>\n",
       "      <td>False</td>\n",
       "    </tr>\n",
       "    <tr>\n",
       "      <th>4</th>\n",
       "      <td>danone</td>\n",
       "      <td>False</td>\n",
       "      <td>unknown</td>\n",
       "      <td>False</td>\n",
       "      <td>False</td>\n",
       "    </tr>\n",
       "  </tbody>\n",
       "</table>\n",
       "</div>"
      ],
      "text/plain": [
       "  brands_tags  est_plastique ecoscore_grade  est_palm  est_cocoa\n",
       "0      danone          False              d     False      False\n",
       "1      danone           True        unknown     False      False\n",
       "2      danone          False              d     False      False\n",
       "3      danone          False        unknown     False      False\n",
       "4      danone          False        unknown     False      False"
      ]
     },
     "execution_count": 23,
     "metadata": {},
     "output_type": "execute_result"
    }
   ],
   "source": [
    "col_indicatrice= ['brands_tags','est_plastique','ecoscore_grade','est_palm','est_cocoa']\n",
    "df_env_indic = df_gdemarq[col_indicatrice]\n",
    "df_env_indic.head()"
   ]
  },
  {
   "cell_type": "markdown",
   "id": "d13e8214-6024-4b06-af04-b5f9582d9dc9",
   "metadata": {},
   "source": [
    "On peut penser à Ordinal Encoder l'ecoscore ?"
   ]
  },
  {
   "cell_type": "code",
   "execution_count": 25,
   "id": "9ffb3591-c7ef-4d04-af2e-d79c975c1705",
   "metadata": {},
   "outputs": [],
   "source": [
    "ind_notapp = df_env_indic.loc[df_env_indic.ecoscore_grade == 'not-applicable'].index\n",
    "df_env_indic = df_env_indic.drop(index = ind_notapp)"
   ]
  },
  {
   "cell_type": "code",
   "execution_count": 26,
   "id": "e2a628da-11e9-4db6-aa79-e3961837da67",
   "metadata": {},
   "outputs": [],
   "source": [
    "def ord_eco(x):\n",
    "    if x == 'a':\n",
    "        return 0\n",
    "    elif x == 'b':\n",
    "        return 0.5\n",
    "    elif x == 'c':\n",
    "        return 1\n",
    "    elif x == 'd':\n",
    "        return 1.5\n",
    "    else:\n",
    "        return 2\n",
    "df_env_indic[\"eco_ord\"] = df_env_indic.ecoscore_grade.map(ord_eco)"
   ]
  },
  {
   "cell_type": "code",
   "execution_count": 27,
   "id": "94a252c0-b1ce-4101-b08e-0532fcb95edf",
   "metadata": {},
   "outputs": [
    {
     "data": {
      "text/plain": [
       "brands_tags\n",
       "ferrero,nutella,ferrero-nutella,ferrero-nutella-ferrero-nutella,ferrero-nutella-ferrero-nutella-ferrero-nutella-ferrero-nutella    5.0\n",
       "nature-et-decouvertes,nature-decouvertes,dolfin                                                                                    5.0\n",
       "kinder,ferrero,ferrero-france                                                                                                      5.0\n",
       "kinder,ferrero,schoko-bons                                                                                                         5.0\n",
       "bon-bon-buddies,universal                                                                                                          5.0\n",
       "terry-s,mondelez                                                                                                                   5.0\n",
       "alwadi                                                                                                                             5.0\n",
       "gdb                                                                                                                                4.5\n",
       "chocotime                                                                                                                          4.5\n",
       "lu-prince                                                                                                                          4.5\n",
       "Name: score_env, dtype: float64"
      ]
     },
     "execution_count": 27,
     "metadata": {},
     "output_type": "execute_result"
    }
   ],
   "source": [
    "df_env_indic[\"score_env\"] = df_env_indic.eco_ord + df_env_indic.est_plastique + df_env_indic.est_palm + df_env_indic.est_cocoa\n",
    "df_env_indic.groupby(\"brands_tags\").score_env.mean().sort_values(ascending=False).head(10)"
   ]
  },
  {
   "cell_type": "markdown",
   "id": "7d1ea3a4-a4f8-4c12-8373-e67dbdf629e7",
   "metadata": {},
   "source": [
    "On peut le comparer à la moyenne qui est de : 1.6972031376039614 points"
   ]
  },
  {
   "cell_type": "code",
   "execution_count": 28,
   "id": "f18d9194-5ab0-43a3-a4bc-500177821414",
   "metadata": {},
   "outputs": [
    {
     "data": {
      "text/plain": [
       "12324"
      ]
     },
     "execution_count": 28,
     "metadata": {},
     "output_type": "execute_result"
    }
   ],
   "source": [
    "df_env_indic.brands_tags.loc[df_env_indic.score_env == 0 ].count()"
   ]
  },
  {
   "cell_type": "markdown",
   "id": "f6ac8415-3958-49f6-8f62-87b170ff5752",
   "metadata": {},
   "source": [
    "12 324 marques ont une moyene de score environnmental de 0. "
   ]
  },
  {
   "cell_type": "code",
   "execution_count": 29,
   "id": "c997e053-3f48-47af-8d16-819a2d848949",
   "metadata": {},
   "outputs": [
    {
     "data": {
      "text/plain": [
       "brands_tags\n",
       "romabella                           0.0\n",
       "polli-1872-arte-italiana            0.0\n",
       "solaya,paquito                      0.0\n",
       "ferme-ferolles,ferme-de-ferolles    0.0\n",
       "nestle,lipton                       0.0\n",
       "Name: score_env, dtype: float64"
      ]
     },
     "execution_count": 29,
     "metadata": {},
     "output_type": "execute_result"
    }
   ],
   "source": [
    "df_env_indic.groupby(\"brands_tags\").score_env.mean().sort_values(ascending=True).head(5)"
   ]
  },
  {
   "cell_type": "markdown",
   "id": "42c6b260-550e-409c-a78c-7e1ec48e91d9",
   "metadata": {},
   "source": [
    "# Observe-t-on une corrélation entre la la qualité nutritionnelle et l'aspect envionnemental ?"
   ]
  },
  {
   "cell_type": "code",
   "execution_count": 30,
   "id": "142b930b-4c41-4ebd-9581-9bda435d40ee",
   "metadata": {},
   "outputs": [],
   "source": [
    "df_corr_qualenv = envqualbio[['nutriscore_grade','ecoscore_grade']]"
   ]
  },
  {
   "cell_type": "code",
   "execution_count": 39,
   "id": "043cf25e-0f93-45be-867a-530c10f39a1e",
   "metadata": {},
   "outputs": [
    {
     "name": "stderr",
     "output_type": "stream",
     "text": [
      "/tmp/ipykernel_5036/1263057802.py:1: SettingWithCopyWarning: \n",
      "A value is trying to be set on a copy of a slice from a DataFrame\n",
      "\n",
      "See the caveats in the documentation: https://pandas.pydata.org/pandas-docs/stable/user_guide/indexing.html#returning-a-view-versus-a-copy\n",
      "  df_corr_qualenv.dropna(axis=0, inplace=True)\n"
     ]
    }
   ],
   "source": [
    "df_corr_qualenv.dropna(axis=0, inplace=True)"
   ]
  },
  {
   "cell_type": "code",
   "execution_count": 40,
   "id": "f4562e25-3ce6-4e42-b749-574f31a64b33",
   "metadata": {},
   "outputs": [
    {
     "data": {
      "text/plain": [
       "nutriscore_grade    0\n",
       "ecoscore_grade      0\n",
       "dtype: int64"
      ]
     },
     "execution_count": 40,
     "metadata": {},
     "output_type": "execute_result"
    }
   ],
   "source": [
    "df_corr_qualenv.isnull().sum()"
   ]
  },
  {
   "cell_type": "markdown",
   "id": "dc4797a7-690b-4963-b60b-8a24a56be474",
   "metadata": {},
   "source": [
    "On effectue un test de Chi-2"
   ]
  },
  {
   "cell_type": "code",
   "execution_count": 43,
   "id": "d9e926da-1598-4f3d-88fa-8d5caca014fd",
   "metadata": {},
   "outputs": [],
   "source": [
    "from scipy.stats import chi2_contingency as chi2_contingency\n",
    "\n",
    "def chi2(X,Y,df,graph=False,contengency=True):\n",
    "    cont_1 = df[[X,Y]].pivot_table(index=X,columns=Y,aggfunc=len,margins=True,margins_name=\"Total\")\n",
    "    if contengency:\n",
    "        print(cont_1)\n",
    "    tx = cont_1.loc[:,[\"Total\"]]\n",
    "    ty = cont_1.loc[[\"Total\"],:]\n",
    "    n = len(df)\n",
    "    indep = round(tx.dot(ty) / n)\n",
    "    chi2, p, dof, expected_freq = chi2_contingency(cont_1)\n",
    "    ## modifier pour chopper le graph \n",
    "    if graph:\n",
    "        c = cont_1.fillna(0) # On remplace les valeurs nulles par 0\n",
    "        measure = (c-indep)**2/indep\n",
    "        xi_n = measure.sum().sum()\n",
    "        table = measure/xi_n\n",
    "        sns.heatmap(table.iloc[:-1,:-1],annot=c.iloc[:-1,:-1])\n",
    "        plt.title('Matrice de corrélation')\n",
    "        plt.show()\n",
    "    else:\n",
    "        return chi2, p "
   ]
  },
  {
   "cell_type": "code",
   "execution_count": 46,
   "id": "5681f21c-1d08-4114-95e5-aab3bce949d8",
   "metadata": {},
   "outputs": [
    {
     "name": "stdout",
     "output_type": "stream",
     "text": [
      "ecoscore_grade       a      b      c      d      e  not-applicable  unknown   \n",
      "nutriscore_grade                                                              \n",
      "a                 3893  13548   4350   4716   3583            1969    11755  \\\n",
      "b                 2057   8102   4695   6897   5211             691    12535   \n",
      "c                 2189  13158  10863  15421   7037             347    17750   \n",
      "d                 1450  14597  15104  23896  17319             477    22256   \n",
      "e                  231   3718   7137  13653  15405            1446    18575   \n",
      "Total             9820  53123  42149  64583  48555            4930    82871   \n",
      "\n",
      "ecoscore_grade     Total  \n",
      "nutriscore_grade          \n",
      "a                  43814  \n",
      "b                  40188  \n",
      "c                  66765  \n",
      "d                  95099  \n",
      "e                  60165  \n",
      "Total             306031  \n"
     ]
    },
    {
     "data": {
      "image/png": "[encoded data removed]",
      "text/plain": [
       "<Figure size 640x480 with 2 Axes>"
      ]
     },
     "metadata": {},
     "output_type": "display_data"
    }
   ],
   "source": [
    "chi2('nutriscore_grade','ecoscore_grade',df_corr_qualenv,graph=True)"
   ]
  }
 ],
 "metadata": {
  "kernelspec": {
   "display_name": "Python 3 (ipykernel)",
   "language": "python",
   "name": "python3"
  },
  "language_info": {
   "codemirror_mode": {
    "name": "ipython",
    "version": 3
   },
   "file_extension": ".py",
   "mimetype": "text/x-python",
   "name": "python",
   "nbconvert_exporter": "python",
   "pygments_lexer": "ipython3",
   "version": "3.10.6"
  }
 },
 "nbformat": 4,
 "nbformat_minor": 5
}
