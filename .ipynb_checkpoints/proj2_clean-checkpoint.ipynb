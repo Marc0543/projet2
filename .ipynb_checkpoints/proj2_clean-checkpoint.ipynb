{
 "cells": [
  {
   "cell_type": "code",
   "execution_count": 3,
   "id": "a8507ee0-2ea3-4825-924e-cc5db5561843",
   "metadata": {},
   "outputs": [],
   "source": [
    "import pandas as pd\n",
    "import matplotlib.pyplot as plt\n",
    "import seaborn as sns\n",
    "from scipy import stats"
   ]
  },
  {
   "cell_type": "code",
   "execution_count": 4,
   "id": "2bf2f0c9-9283-4439-9de9-7eb4c2ea4797",
   "metadata": {},
   "outputs": [],
   "source": [
    "bio = pd.read_csv(\"../dataset/Agriculture_biologique_final.csv\", sep =\"\\t\")\n",
    "env = pd.read_csv(\"../dataset/Impact environnemental_final.csv\", sep=\"\\t\",low_memory=False)\n",
    "qual = pd.read_csv(\"../dataset/Qualite nutritionnelle_final.csv\", sep=\"\\t\",low_memory=False)"
   ]
  },
  {
   "cell_type": "markdown",
   "id": "575bb40d-476a-43b4-ba43-e316cd031e04",
   "metadata": {},
   "source": [
    "# 0  Nettoyage"
   ]
  },
  {
   "cell_type": "markdown",
   "id": "4e79f0c0-f936-47ee-83c7-bc20fa5b57f6",
   "metadata": {},
   "source": [
    "## 0.1 Regroupement des datasets"
   ]
  },
  {
   "cell_type": "markdown",
   "id": "45991c59-1bed-4faa-a8a6-1fc448eed1a6",
   "metadata": {},
   "source": [
    "Colonnes communes env & qual"
   ]
  },
  {
   "cell_type": "code",
   "execution_count": 5,
   "id": "bbdbf1c8-4951-49e9-bb7a-a363444255e8",
   "metadata": {},
   "outputs": [
    {
     "data": {
      "text/plain": [
       "Index(['code', 'product_name', 'quantity', 'brands_tags', 'countries_tags',\n",
       "       'serving_size', 'image_url'],\n",
       "      dtype='object')"
      ]
     },
     "execution_count": 5,
     "metadata": {},
     "output_type": "execute_result"
    }
   ],
   "source": [
    "env.columns[env.columns.isin(qual.columns)]"
   ]
  },
  {
   "cell_type": "markdown",
   "id": "ac6aa779-df81-4097-ab67-414011f4161d",
   "metadata": {},
   "source": [
    "Merge des df env et qual"
   ]
  },
  {
   "cell_type": "code",
   "execution_count": 6,
   "id": "e20c7443-6bc8-45b0-824a-048cec88503a",
   "metadata": {},
   "outputs": [
    {
     "data": {
      "text/plain": [
       "Index(['code', 'product_name', 'quantity', 'brands_tags', 'countries_tags',\n",
       "       'serving_size', 'image_url', 'ecoscore_grade', 'est_plastique',\n",
       "       'est_palm', 'est_cocoa', 'ingredients_tags', 'nutriscore_grade',\n",
       "       'energy-kcal_100g', 'fat_100g', 'saturated-fat_100g', 'sugars_100g',\n",
       "       'proteins_100g', 'salt_100g', 'nb_nocif', 'merged_qual'],\n",
       "      dtype='object')"
      ]
     },
     "execution_count": 6,
     "metadata": {},
     "output_type": "execute_result"
    }
   ],
   "source": [
    "envqual = env.merge(qual, on = ['code', 'product_name', 'quantity', 'brands_tags', 'countries_tags','serving_size', 'image_url'], how='outer', indicator='merged_qual')\n",
    "envqual.columns"
   ]
  },
  {
   "cell_type": "markdown",
   "id": "1bb830b8-1023-460a-9363-eee3607b6a91",
   "metadata": {},
   "source": [
    "Colonnes communes envqual et bio"
   ]
  },
  {
   "cell_type": "code",
   "execution_count": 7,
   "id": "49a78f1f-1535-4c33-9228-7330dd260c46",
   "metadata": {},
   "outputs": [
    {
     "data": {
      "text/plain": [
       "Index(['product_name', 'brands_tags', 'serving_size'], dtype='object')"
      ]
     },
     "execution_count": 7,
     "metadata": {},
     "output_type": "execute_result"
    }
   ],
   "source": [
    "envqual.columns[envqual.columns.isin(bio.columns)]"
   ]
  },
  {
   "cell_type": "markdown",
   "id": "7d569f65-0991-463d-b7f3-76b90abcb256",
   "metadata": {},
   "source": [
    "Merge des df env et qual"
   ]
  },
  {
   "cell_type": "code",
   "execution_count": 8,
   "id": "e5d85004-8507-44b0-a43b-2df7b779ddc7",
   "metadata": {},
   "outputs": [
    {
     "data": {
      "text/plain": [
       "Index(['code', 'product_name', 'quantity', 'brands_tags', 'countries_tags',\n",
       "       'serving_size', 'image_url', 'ecoscore_grade', 'est_plastique',\n",
       "       'est_palm', 'est_cocoa', 'ingredients_tags', 'nutriscore_grade',\n",
       "       'energy-kcal_100g', 'fat_100g', 'saturated-fat_100g', 'sugars_100g',\n",
       "       'proteins_100g', 'salt_100g', 'nb_nocif', 'merged_qual', 'est_bio',\n",
       "       'merged_bio'],\n",
       "      dtype='object')"
      ]
     },
     "execution_count": 8,
     "metadata": {},
     "output_type": "execute_result"
    }
   ],
   "source": [
    "envqualbio = envqual.merge(bio, on=['product_name', 'brands_tags', 'serving_size'], how='outer', indicator='merged_bio')\n",
    "envqualbio.columns"
   ]
  },
  {
   "cell_type": "markdown",
   "id": "ac64801a-fb44-4e6b-901a-e9e7eb63fdc7",
   "metadata": {},
   "source": [
    "On supprime les doublons"
   ]
  },
  {
   "cell_type": "code",
   "execution_count": 9,
   "id": "fb95ffdd-05ab-45e3-a2aa-f736ec894e09",
   "metadata": {},
   "outputs": [
    {
     "data": {
      "text/plain": [
       "0"
      ]
     },
     "execution_count": 9,
     "metadata": {},
     "output_type": "execute_result"
    }
   ],
   "source": [
    "envqualbio = envqualbio.drop_duplicates()\n",
    "envqualbio.duplicated().sum()"
   ]
  },
  {
   "cell_type": "code",
   "execution_count": 10,
   "id": "bab2addc-a950-4383-bf0e-85beb1f4267a",
   "metadata": {},
   "outputs": [],
   "source": [
    "envqualbio.reset_index(inplace=True)"
   ]
  },
  {
   "cell_type": "code",
   "execution_count": 11,
   "id": "7a6f0428-07a2-4223-82a0-5c5c170fc249",
   "metadata": {},
   "outputs": [],
   "source": [
    "envqualbio.drop(columns='index',inplace=True)"
   ]
  },
  {
   "cell_type": "markdown",
   "id": "2f7a15df-4edd-4e9e-a90c-342551fd74ba",
   "metadata": {},
   "source": [
    "Gestion des valeurs manquantes"
   ]
  },
  {
   "cell_type": "markdown",
   "id": "1c872c38-c652-44c9-a863-e5b30c92069d",
   "metadata": {},
   "source": [
    "Pourcentage des valeurs manquantes par colonnes"
   ]
  },
  {
   "cell_type": "code",
   "execution_count": 12,
   "id": "61895768-b664-48bd-abba-ab3f92a18444",
   "metadata": {},
   "outputs": [
    {
     "data": {
      "text/plain": [
       "code                       0\n",
       "product_name           24354\n",
       "quantity              579572\n",
       "brands_tags           412045\n",
       "countries_tags             0\n",
       "serving_size          763369\n",
       "image_url              71750\n",
       "ecoscore_grade           662\n",
       "est_plastique              0\n",
       "est_palm                   0\n",
       "est_cocoa                  0\n",
       "ingredients_tags      596585\n",
       "nutriscore_grade      543571\n",
       "energy-kcal_100g      215440\n",
       "fat_100g              197506\n",
       "saturated-fat_100g    192288\n",
       "sugars_100g           192913\n",
       "proteins_100g         195686\n",
       "salt_100g             222287\n",
       "nb_nocif                   0\n",
       "merged_qual                0\n",
       "est_bio               412045\n",
       "merged_bio                 0\n",
       "dtype: int64"
      ]
     },
     "execution_count": 12,
     "metadata": {},
     "output_type": "execute_result"
    }
   ],
   "source": [
    "envqualbio.isnull().sum()"
   ]
  },
  {
   "cell_type": "code",
   "execution_count": 13,
   "id": "daf82100-575e-434d-a00a-d6eeb40874ea",
   "metadata": {},
   "outputs": [
    {
     "data": {
      "text/plain": [
       "(849616, 23)"
      ]
     },
     "execution_count": 13,
     "metadata": {},
     "output_type": "execute_result"
    }
   ],
   "source": [
    "envqualbio.shape"
   ]
  },
  {
   "cell_type": "code",
   "execution_count": 14,
   "id": "1a9d027c-18ce-4e34-a027-bdafd9ab97ee",
   "metadata": {},
   "outputs": [
    {
     "data": {
      "text/plain": [
       "code                   0.000000\n",
       "product_name           2.866471\n",
       "quantity              68.215759\n",
       "brands_tags           48.497792\n",
       "countries_tags         0.000000\n",
       "serving_size          89.848708\n",
       "image_url              8.444992\n",
       "ecoscore_grade         0.077918\n",
       "est_plastique          0.000000\n",
       "est_palm               0.000000\n",
       "est_cocoa              0.000000\n",
       "ingredients_tags      70.218193\n",
       "nutriscore_grade      63.978433\n",
       "energy-kcal_100g      25.357338\n",
       "fat_100g              23.246502\n",
       "saturated-fat_100g    22.632342\n",
       "sugars_100g           22.705905\n",
       "proteins_100g         23.032288\n",
       "salt_100g             26.163231\n",
       "nb_nocif               0.000000\n",
       "merged_qual            0.000000\n",
       "est_bio               48.497792\n",
       "merged_bio             0.000000\n",
       "dtype: float64"
      ]
     },
     "execution_count": 14,
     "metadata": {},
     "output_type": "execute_result"
    }
   ],
   "source": [
    "envqualbio.isnull().sum() / envqualbio.shape[0] * 100"
   ]
  },
  {
   "cell_type": "markdown",
   "id": "07ee5b1a-9eec-4df4-b3b7-4d9464515717",
   "metadata": {},
   "source": [
    "# Quelles sont les marques qui jouent le jeu et affichent le nutriscore ? Lesquelles ne le font pas?"
   ]
  },
  {
   "cell_type": "markdown",
   "id": "dec9e776-601f-4a8e-aa40-b25f2a05dcf5",
   "metadata": {},
   "source": [
    "On enleve les marques qui ne sont pas répertoriées"
   ]
  },
  {
   "cell_type": "code",
   "execution_count": 16,
   "id": "3c5215ae-30dd-461c-997b-768a70000448",
   "metadata": {},
   "outputs": [],
   "source": [
    "ind_brand_missing = envqualbio.loc[envqualbio.brands_tags.isnull()].index\n",
    "df_sansmarques= envqualbio.drop(index=ind_brand_missing)"
   ]
  },
  {
   "cell_type": "markdown",
   "id": "5aefe8b1-740e-42ab-8dd4-b8b4443ecdd0",
   "metadata": {},
   "source": [
    "Selection des marques ayant le plus de produits sans nutriscores"
   ]
  },
  {
   "cell_type": "code",
   "execution_count": 18,
   "id": "b6c72d46-8774-449a-8b70-fef2dda07a7d",
   "metadata": {},
   "outputs": [
    {
     "data": {
      "text/plain": [
       "brands_tags\n",
       "carrefour                           5935\n",
       "auchan                              3911\n",
       "u                                   2035\n",
       "nestle                              1687\n",
       "casino                              1554\n",
       "                                    ... \n",
       "crystal-gourmet                        1\n",
       "la-maziere                             1\n",
       "moulin-artisanal-gilles-matignon       1\n",
       "mon-rhum                               1\n",
       "vitaflor,milical                       1\n",
       "Name: count, Length: 36779, dtype: int64"
      ]
     },
     "execution_count": 18,
     "metadata": {},
     "output_type": "execute_result"
    }
   ],
   "source": [
    "bad_marques = df_sansmarques[['brands_tags','nutriscore_grade']][df_sansmarques.nutriscore_grade.isnull()]\n",
    "bad_marques.brands_tags.value_counts()"
   ]
  },
  {
   "cell_type": "markdown",
   "id": "5707a366-7c27-4ae4-8832-81f93ca70550",
   "metadata": {},
   "source": [
    "On peut se poser la question de la pertinence de ce résultat, pour une marque qui ne dispose que d'un produit ( ou très peu ) ce sera souvent des marques locales, qu'un consommateur ne va pas forcémenet retrouver chez lui en grande surface. Et donc si ce produit n'a pas de nutriscore, la marque aura tout de suite un % de son produit sans nutriscore très élevé."
   ]
  },
  {
   "cell_type": "code",
   "execution_count": 25,
   "id": "a8bcc4f6-43a6-4492-8729-1a604243cc91",
   "metadata": {},
   "outputs": [
    {
     "data": {
      "text/plain": [
       "brands_tags\n",
       "carrefour                                                                                    12331\n",
       "auchan                                                                                       10813\n",
       "u                                                                                             6520\n",
       "casino                                                                                        4809\n",
       "leader-price                                                                                  4473\n",
       "                                                                                             ...  \n",
       "carrefour,carrefour-selection,cmi-carrefour-marchandises-internationales,groupe-carrefour        1\n",
       "carrerfour                                                                                       1\n",
       "carrefour,persyn                                                                                 1\n",
       "carrefour-discount,carrefour-discount,carrefour                                                  1\n",
       "vitaflor,milical                                                                                 1\n",
       "Name: count, Length: 58298, dtype: int64"
      ]
     },
     "execution_count": 25,
     "metadata": {},
     "output_type": "execute_result"
    }
   ],
   "source": [
    "df_sansmarques.brands_tags.value_counts()"
   ]
  },
  {
   "cell_type": "code",
   "execution_count": 27,
   "id": "a73efe25-8235-4871-8ead-0b484ff13b6a",
   "metadata": {},
   "outputs": [
    {
     "data": {
      "text/plain": [
       "brands_tags\n",
       "False    421618\n",
       "True      15953\n",
       "Name: count, dtype: int64"
      ]
     },
     "execution_count": 27,
     "metadata": {},
     "output_type": "execute_result"
    }
   ],
   "source": [
    "a = df_sansmarques.brands_tags.map(lambda x: 'carrefour' in x and).value_counts()\n",
    "a"
   ]
  },
  {
   "cell_type": "markdown",
   "id": "ae547e83-84fe-47d8-a9b8-d5a3cb4db631",
   "metadata": {},
   "source": [
    "# Quelles sont les marques qui ont le plus recours aux additifs nocifs ?"
   ]
  },
  {
   "cell_type": "code",
   "execution_count": 88,
   "id": "7f94d196-e58f-419b-a913-3c72e8125ce1",
   "metadata": {},
   "outputs": [
    {
     "data": {
      "text/plain": [
       "array([0., 1., 2.])"
      ]
     },
     "execution_count": 88,
     "metadata": {},
     "output_type": "execute_result"
    }
   ],
   "source": [
    "envqualbio.nb_nocif.unique()"
   ]
  },
  {
   "cell_type": "code",
   "execution_count": 87,
   "id": "2bc6e601-6cf4-48b7-9d1c-1f533c1abcac",
   "metadata": {},
   "outputs": [
    {
     "data": {
      "text/plain": [
       "brands_tags\n",
       "sodastream          29.0\n",
       "nestle,sveltesse    10.0\n",
       "a-rom                9.0\n",
       "dove                 8.0\n",
       "nestle               7.0\n",
       "schweppes            7.0\n",
       "freeway              6.0\n",
       "eco                  4.0\n",
       "fruiss               4.0\n",
       "steff                4.0\n",
       "Name: nb_nocif, dtype: float64"
      ]
     },
     "execution_count": 87,
     "metadata": {},
     "output_type": "execute_result"
    }
   ],
   "source": [
    "envqualbio.groupby('brands_tags').nb_nocif.sum().sort_values(ascending= False)[:10]"
   ]
  },
  {
   "cell_type": "code",
   "execution_count": null,
   "id": "62bd3c8b-8085-447a-96fa-369e85ed7947",
   "metadata": {},
   "outputs": [],
   "source": [
    "test = envqualbio.copy()\n",
    "def modif_nut(row):\n",
    "    if row.nutriscore_grade is in ['a','d', 'e', 'b', 'c'] : \n",
    "        return row\n",
    "    elif \n",
    "test.apply(modif_nut)"
   ]
  },
  {
   "cell_type": "code",
   "execution_count": 109,
   "id": "b0aebc0e-7edc-4647-bc7f-bdb0a4f5fc1a",
   "metadata": {},
   "outputs": [
    {
     "data": {
      "text/plain": [
       "array(['a', nan, 'd', 'e', 'b', 'c'], dtype=object)"
      ]
     },
     "execution_count": 109,
     "metadata": {},
     "output_type": "execute_result"
    }
   ],
   "source": [
    "envqualbio.nutriscore_grade.unique()"
   ]
  },
  {
   "cell_type": "code",
   "execution_count": 105,
   "id": "0f61d3b9-6516-46b4-8497-6de77d801431",
   "metadata": {},
   "outputs": [
    {
     "ename": "AttributeError",
     "evalue": "'DataFrame' object has no attribute 'unique'",
     "output_type": "error",
     "traceback": [
      "\u001b[1;31m---------------------------------------------------------------------------\u001b[0m",
      "\u001b[1;31mAttributeError\u001b[0m                            Traceback (most recent call last)",
      "Cell \u001b[1;32mIn[108], line 1\u001b[0m\n\u001b[1;32m----> 1\u001b[0m envqualbio\u001b[38;5;241m.\u001b[39mloc[\u001b[43menvqualbio\u001b[49m\u001b[43m[\u001b[49m\u001b[43m[\u001b[49m\u001b[38;5;124;43m'\u001b[39;49m\u001b[38;5;124;43mbrands_tags\u001b[39;49m\u001b[38;5;124;43m'\u001b[39;49m\u001b[43m,\u001b[49m\u001b[38;5;124;43m'\u001b[39;49m\u001b[38;5;124;43mproduct_name\u001b[39;49m\u001b[38;5;124;43m'\u001b[39;49m\u001b[43m]\u001b[49m\u001b[43m]\u001b[49m\u001b[38;5;241;43m.\u001b[39;49m\u001b[43munique\u001b[49m()]\n",
      "File \u001b[1;32m~\\anaconda3\\lib\\site-packages\\pandas\\core\\generic.py:5902\u001b[0m, in \u001b[0;36mNDFrame.__getattr__\u001b[1;34m(self, name)\u001b[0m\n\u001b[0;32m   5895\u001b[0m \u001b[38;5;28;01mif\u001b[39;00m (\n\u001b[0;32m   5896\u001b[0m     name \u001b[38;5;129;01mnot\u001b[39;00m \u001b[38;5;129;01min\u001b[39;00m \u001b[38;5;28mself\u001b[39m\u001b[38;5;241m.\u001b[39m_internal_names_set\n\u001b[0;32m   5897\u001b[0m     \u001b[38;5;129;01mand\u001b[39;00m name \u001b[38;5;129;01mnot\u001b[39;00m \u001b[38;5;129;01min\u001b[39;00m \u001b[38;5;28mself\u001b[39m\u001b[38;5;241m.\u001b[39m_metadata\n\u001b[0;32m   5898\u001b[0m     \u001b[38;5;129;01mand\u001b[39;00m name \u001b[38;5;129;01mnot\u001b[39;00m \u001b[38;5;129;01min\u001b[39;00m \u001b[38;5;28mself\u001b[39m\u001b[38;5;241m.\u001b[39m_accessors\n\u001b[0;32m   5899\u001b[0m     \u001b[38;5;129;01mand\u001b[39;00m \u001b[38;5;28mself\u001b[39m\u001b[38;5;241m.\u001b[39m_info_axis\u001b[38;5;241m.\u001b[39m_can_hold_identifiers_and_holds_name(name)\n\u001b[0;32m   5900\u001b[0m ):\n\u001b[0;32m   5901\u001b[0m     \u001b[38;5;28;01mreturn\u001b[39;00m \u001b[38;5;28mself\u001b[39m[name]\n\u001b[1;32m-> 5902\u001b[0m \u001b[38;5;28;01mreturn\u001b[39;00m \u001b[38;5;28;43mobject\u001b[39;49m\u001b[38;5;241;43m.\u001b[39;49m\u001b[38;5;21;43m__getattribute__\u001b[39;49m\u001b[43m(\u001b[49m\u001b[38;5;28;43mself\u001b[39;49m\u001b[43m,\u001b[49m\u001b[43m \u001b[49m\u001b[43mname\u001b[49m\u001b[43m)\u001b[49m\n",
      "\u001b[1;31mAttributeError\u001b[0m: 'DataFrame' object has no attribute 'unique'"
     ]
    }
   ],
   "source": [
    "envqualbio.loc[envqualbio[['brands_tags','product_name']].duplicated()]"
   ]
  },
  {
   "cell_type": "code",
   "execution_count": null,
   "id": "4a1b3c5d-f77d-4a27-8490-ab05b7f1f541",
   "metadata": {},
   "outputs": [],
   "source": []
  }
 ],
 "metadata": {
  "kernelspec": {
   "display_name": "Python 3 (ipykernel)",
   "language": "python",
   "name": "python3"
  },
  "language_info": {
   "codemirror_mode": {
    "name": "ipython",
    "version": 3
   },
   "file_extension": ".py",
   "mimetype": "text/x-python",
   "name": "python",
   "nbconvert_exporter": "python",
   "pygments_lexer": "ipython3",
   "version": "3.11.3"
  }
 },
 "nbformat": 4,
 "nbformat_minor": 5
}
