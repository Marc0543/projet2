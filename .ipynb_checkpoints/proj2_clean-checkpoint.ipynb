{
 "cells": [
  {
   "cell_type": "code",
   "execution_count": 2,
   "id": "a8507ee0-2ea3-4825-924e-cc5db5561843",
   "metadata": {},
   "outputs": [],
   "source": [
    "import pandas as pd\n",
    "import matplotlib.pyplot as plt\n",
    "import seaborn as sns\n",
    "from scipy import stats"
   ]
  },
  {
   "cell_type": "code",
   "execution_count": 3,
   "id": "2bf2f0c9-9283-4439-9de9-7eb4c2ea4797",
   "metadata": {},
   "outputs": [],
   "source": [
    "bio = pd.read_csv(\"../dataset/Agriculture_biologique_final.csv\", sep =\"\\t\")\n",
    "env = pd.read_csv(\"../dataset/Impact environnemental_final.csv\", sep=\"\\t\",low_memory=False)\n",
    "qual = pd.read_csv(\"../dataset/Qualite nutritionnelle_final.csv\", sep=\"\\t\",low_memory=False)"
   ]
  },
  {
   "cell_type": "markdown",
   "id": "575bb40d-476a-43b4-ba43-e316cd031e04",
   "metadata": {},
   "source": [
    "# 0  Nettoyage"
   ]
  },
  {
   "cell_type": "markdown",
   "id": "4e79f0c0-f936-47ee-83c7-bc20fa5b57f6",
   "metadata": {},
   "source": [
    "## 0.1 Regroupement des datasets"
   ]
  },
  {
   "cell_type": "markdown",
   "id": "45991c59-1bed-4faa-a8a6-1fc448eed1a6",
   "metadata": {},
   "source": [
    "Colonnes communes env & qual"
   ]
  },
  {
   "cell_type": "code",
   "execution_count": 4,
   "id": "bbdbf1c8-4951-49e9-bb7a-a363444255e8",
   "metadata": {},
   "outputs": [
    {
     "data": {
      "text/plain": [
       "Index(['code', 'product_name', 'quantity', 'brands_tags', 'countries_tags',\n",
       "       'serving_size', 'image_url'],\n",
       "      dtype='object')"
      ]
     },
     "execution_count": 4,
     "metadata": {},
     "output_type": "execute_result"
    }
   ],
   "source": [
    "env.columns[env.columns.isin(qual.columns)]"
   ]
  },
  {
   "cell_type": "markdown",
   "id": "ac6aa779-df81-4097-ab67-414011f4161d",
   "metadata": {},
   "source": [
    "Merge des df env et qual"
   ]
  },
  {
   "cell_type": "code",
   "execution_count": 5,
   "id": "e20c7443-6bc8-45b0-824a-048cec88503a",
   "metadata": {},
   "outputs": [
    {
     "data": {
      "text/plain": [
       "Index(['code', 'product_name', 'quantity', 'brands_tags', 'countries_tags',\n",
       "       'serving_size', 'image_url', 'ecoscore_grade', 'est_plastique',\n",
       "       'est_palm', 'est_cocoa', 'ingredients_tags', 'nutriscore_grade',\n",
       "       'energy-kcal_100g', 'fat_100g', 'saturated-fat_100g', 'sugars_100g',\n",
       "       'proteins_100g', 'salt_100g', 'nb_nocif', 'merged_qual'],\n",
       "      dtype='object')"
      ]
     },
     "execution_count": 5,
     "metadata": {},
     "output_type": "execute_result"
    }
   ],
   "source": [
    "envqual = env.merge(qual, on = ['code', 'product_name', 'quantity', 'brands_tags', 'countries_tags','serving_size', 'image_url'], how='outer', indicator='merged_qual')\n",
    "envqual.columns"
   ]
  },
  {
   "cell_type": "markdown",
   "id": "1bb830b8-1023-460a-9363-eee3607b6a91",
   "metadata": {},
   "source": [
    "Colonnes communes envqual et bio"
   ]
  },
  {
   "cell_type": "code",
   "execution_count": 6,
   "id": "49a78f1f-1535-4c33-9228-7330dd260c46",
   "metadata": {},
   "outputs": [
    {
     "data": {
      "text/plain": [
       "Index(['product_name', 'brands_tags', 'serving_size'], dtype='object')"
      ]
     },
     "execution_count": 6,
     "metadata": {},
     "output_type": "execute_result"
    }
   ],
   "source": [
    "envqual.columns[envqual.columns.isin(bio.columns)]"
   ]
  },
  {
   "cell_type": "markdown",
   "id": "7d569f65-0991-463d-b7f3-76b90abcb256",
   "metadata": {},
   "source": [
    "Merge des df env et qual"
   ]
  },
  {
   "cell_type": "code",
   "execution_count": 7,
   "id": "e5d85004-8507-44b0-a43b-2df7b779ddc7",
   "metadata": {},
   "outputs": [
    {
     "data": {
      "text/plain": [
       "Index(['code', 'product_name', 'quantity', 'brands_tags', 'countries_tags',\n",
       "       'serving_size', 'image_url', 'ecoscore_grade', 'est_plastique',\n",
       "       'est_palm', 'est_cocoa', 'ingredients_tags', 'nutriscore_grade',\n",
       "       'energy-kcal_100g', 'fat_100g', 'saturated-fat_100g', 'sugars_100g',\n",
       "       'proteins_100g', 'salt_100g', 'nb_nocif', 'merged_qual', 'est_bio',\n",
       "       'merged_bio'],\n",
       "      dtype='object')"
      ]
     },
     "execution_count": 7,
     "metadata": {},
     "output_type": "execute_result"
    }
   ],
   "source": [
    "envqualbio = envqual.merge(bio, on=['product_name', 'brands_tags', 'serving_size'], how='outer', indicator='merged_bio')\n",
    "envqualbio.columns"
   ]
  },
  {
   "cell_type": "markdown",
   "id": "ac64801a-fb44-4e6b-901a-e9e7eb63fdc7",
   "metadata": {},
   "source": [
    "On supprime les doublons"
   ]
  },
  {
   "cell_type": "code",
   "execution_count": 8,
   "id": "fb95ffdd-05ab-45e3-a2aa-f736ec894e09",
   "metadata": {},
   "outputs": [
    {
     "data": {
      "text/plain": [
       "0"
      ]
     },
     "execution_count": 8,
     "metadata": {},
     "output_type": "execute_result"
    }
   ],
   "source": [
    "envqualbio = envqualbio.drop_duplicates()\n",
    "envqualbio.duplicated().sum()"
   ]
  },
  {
   "cell_type": "code",
   "execution_count": 9,
   "id": "bab2addc-a950-4383-bf0e-85beb1f4267a",
   "metadata": {},
   "outputs": [],
   "source": [
    "envqualbio.reset_index(inplace=True)"
   ]
  },
  {
   "cell_type": "code",
   "execution_count": 10,
   "id": "7a6f0428-07a2-4223-82a0-5c5c170fc249",
   "metadata": {},
   "outputs": [],
   "source": [
    "envqualbio.drop(columns='index',inplace=True)"
   ]
  },
  {
   "cell_type": "markdown",
   "id": "2f7a15df-4edd-4e9e-a90c-342551fd74ba",
   "metadata": {},
   "source": [
    "Gestion des valeurs manquantes"
   ]
  },
  {
   "cell_type": "markdown",
   "id": "1c872c38-c652-44c9-a863-e5b30c92069d",
   "metadata": {},
   "source": [
    "Pourcentage des valeurs manquantes par colonnes"
   ]
  },
  {
   "cell_type": "code",
   "execution_count": 11,
   "id": "61895768-b664-48bd-abba-ab3f92a18444",
   "metadata": {},
   "outputs": [
    {
     "data": {
      "text/plain": [
       "code                       0\n",
       "product_name           24354\n",
       "quantity              579572\n",
       "brands_tags           412045\n",
       "countries_tags             0\n",
       "serving_size          763369\n",
       "image_url              71750\n",
       "ecoscore_grade           662\n",
       "est_plastique              0\n",
       "est_palm                   0\n",
       "est_cocoa                  0\n",
       "ingredients_tags      596585\n",
       "nutriscore_grade      543571\n",
       "energy-kcal_100g      215440\n",
       "fat_100g              197506\n",
       "saturated-fat_100g    192288\n",
       "sugars_100g           192913\n",
       "proteins_100g         195686\n",
       "salt_100g             222287\n",
       "nb_nocif                   0\n",
       "merged_qual                0\n",
       "est_bio               412045\n",
       "merged_bio                 0\n",
       "dtype: int64"
      ]
     },
     "execution_count": 11,
     "metadata": {},
     "output_type": "execute_result"
    }
   ],
   "source": [
    "envqualbio.isnull().sum()"
   ]
  },
  {
   "cell_type": "code",
   "execution_count": 12,
   "id": "daf82100-575e-434d-a00a-d6eeb40874ea",
   "metadata": {},
   "outputs": [
    {
     "data": {
      "text/plain": [
       "(849616, 23)"
      ]
     },
     "execution_count": 12,
     "metadata": {},
     "output_type": "execute_result"
    }
   ],
   "source": [
    "envqualbio.shape"
   ]
  },
  {
   "cell_type": "markdown",
   "id": "dee93997-1e09-49d9-90d4-b261d9e4c686",
   "metadata": {},
   "source": [
    " Pourcentage de données nulles du tableau"
   ]
  },
  {
   "cell_type": "code",
   "execution_count": 12,
   "id": "1a9d027c-18ce-4e34-a027-bdafd9ab97ee",
   "metadata": {},
   "outputs": [
    {
     "data": {
      "text/plain": [
       "code                   0.000000\n",
       "product_name           2.866471\n",
       "quantity              68.215759\n",
       "brands_tags           48.497792\n",
       "countries_tags         0.000000\n",
       "serving_size          89.848708\n",
       "image_url              8.444992\n",
       "ecoscore_grade         0.077918\n",
       "est_plastique          0.000000\n",
       "est_palm               0.000000\n",
       "est_cocoa              0.000000\n",
       "ingredients_tags      70.218193\n",
       "nutriscore_grade      63.978433\n",
       "energy-kcal_100g      25.357338\n",
       "fat_100g              23.246502\n",
       "saturated-fat_100g    22.632342\n",
       "sugars_100g           22.705905\n",
       "proteins_100g         23.032288\n",
       "salt_100g             26.163231\n",
       "nb_nocif               0.000000\n",
       "merged_qual            0.000000\n",
       "est_bio               48.497792\n",
       "merged_bio             0.000000\n",
       "dtype: float64"
      ]
     },
     "execution_count": 12,
     "metadata": {},
     "output_type": "execute_result"
    }
   ],
   "source": [
    "envqualbio.isnull().sum() / envqualbio.shape[0] * 100"
   ]
  },
  {
   "cell_type": "markdown",
   "id": "cccdd856-dca2-4916-9a00-178ecc4dfbcd",
   "metadata": {},
   "source": [
    "# Partie test pour garder que (marque , produit) unique avec le plus d'info possible"
   ]
  },
  {
   "cell_type": "code",
   "execution_count": 64,
   "id": "b0a5a185-7d76-4235-a906-d4d93fe82ed9",
   "metadata": {},
   "outputs": [],
   "source": [
    "test = envqualbio.copy()"
   ]
  },
  {
   "cell_type": "code",
   "execution_count": 63,
   "id": "94e2e2d3-ee62-4c79-902f-c99011ccfcb6",
   "metadata": {},
   "outputs": [
    {
     "data": {
      "text/plain": [
       "0      a\n",
       "1    NaN\n",
       "2    NaN\n",
       "3    NaN\n",
       "4      a\n",
       "5    NaN\n",
       "6    NaN\n",
       "7    NaN\n",
       "8    NaN\n",
       "9    NaN\n",
       "Name: nutriscore_grade, dtype: object"
      ]
     },
     "execution_count": 63,
     "metadata": {},
     "output_type": "execute_result"
    }
   ],
   "source": [
    "testo = test.loc[test.index <10]\n",
    "def test_modif(row):\n",
    "    row.nutriscore_grade = 1\n",
    "    return row\n",
    "testo.apply(test_modif).nutriscore_grade"
   ]
  },
  {
   "cell_type": "code",
   "execution_count": null,
   "id": "c2324699-7400-4772-a5e4-ded5882e3332",
   "metadata": {},
   "outputs": [],
   "source": [
    "\n",
    "from statistics import mode\n",
    "def impute_nutscore(row):\n",
    "    if test.loc[row][row.nutriscore_grade] in ['a','d', 'e', 'b', 'c'] : \n",
    "        return row\n",
    "    else:\n",
    "        b = test.loc[test.product_name == row.product_name].loc[test.brands_tags == row.brands_tags].nutriscore_grade.unique()\n",
    "        b = list(dict.fromkeys(b))\n",
    "        if b != [nan]:\n",
    "            b = b.remove(nan)\n",
    "            row.nutriscore_grade = mode(b)\n",
    "            return row\n",
    "        else:\n",
    "            return row         \n",
    "test.apply(impute_nutscore)"
   ]
  },
  {
   "cell_type": "markdown",
   "id": "07ee5b1a-9eec-4df4-b3b7-4d9464515717",
   "metadata": {},
   "source": [
    "# Quelles sont les marques qui jouent le jeu et affichent le nutriscore ? Lesquelles ne le font pas?"
   ]
  },
  {
   "cell_type": "markdown",
   "id": "ae547e83-84fe-47d8-a9b8-d5a3cb4db631",
   "metadata": {},
   "source": [
    "# Quelles sont les marques qui ont le plus recours aux additifs nocifs ?"
   ]
  },
  {
   "cell_type": "code",
   "execution_count": 88,
   "id": "7f94d196-e58f-419b-a913-3c72e8125ce1",
   "metadata": {},
   "outputs": [
    {
     "data": {
      "text/plain": [
       "array([0., 1., 2.])"
      ]
     },
     "execution_count": 88,
     "metadata": {},
     "output_type": "execute_result"
    }
   ],
   "source": [
    "envqualbio.nb_nocif.unique()"
   ]
  },
  {
   "cell_type": "markdown",
   "id": "4320cd79-e3c8-489c-be40-fd53cedea7bf",
   "metadata": {},
   "source": [
    "Les 10 marques ayant le plus recours aux produits nocifs"
   ]
  },
  {
   "cell_type": "code",
   "execution_count": 66,
   "id": "2bc6e601-6cf4-48b7-9d1c-1f533c1abcac",
   "metadata": {},
   "outputs": [
    {
     "data": {
      "text/plain": [
       "brands_tags\n",
       "sodastream          29.0\n",
       "nestle,sveltesse    10.0\n",
       "a-rom                9.0\n",
       "dove                 8.0\n",
       "nestle               7.0\n",
       "schweppes            7.0\n",
       "freeway              6.0\n",
       "eco                  4.0\n",
       "fruiss               4.0\n",
       "steff                4.0\n",
       "Name: nb_nocif, dtype: float64"
      ]
     },
     "execution_count": 66,
     "metadata": {},
     "output_type": "execute_result"
    }
   ],
   "source": [
    "envqualbio.groupby('brands_tags').nb_nocif.sum().sort_values(ascending= False)[:10]"
   ]
  },
  {
   "cell_type": "markdown",
   "id": "602ba7ac-e7bb-4c2a-a37c-fd514c71e305",
   "metadata": {},
   "source": [
    "# Quelles sont les marques qui jouent le jeu et affichent l'ecoscore ? Lesquelles ne le font pas?"
   ]
  },
  {
   "cell_type": "code",
   "execution_count": 13,
   "id": "5bfbe847-47ad-4aba-bed3-ceea56964818",
   "metadata": {},
   "outputs": [],
   "source": [
    "ind_brand_missing = envqualbio.loc[envqualbio.brands_tags.isnull()].index\n",
    "df_Wmarques= envqualbio.drop(index=ind_brand_missing)"
   ]
  },
  {
   "cell_type": "markdown",
   "id": "8695dcee-95bb-42f1-b8c3-d98827c4e9e0",
   "metadata": {},
   "source": [
    "## Marques présentant le plus de produits avec un ecoscore inconnu ou null"
   ]
  },
  {
   "cell_type": "code",
   "execution_count": 69,
   "id": "db07fd6d-a65f-4e80-84dd-0d95b6fb95aa",
   "metadata": {},
   "outputs": [
    {
     "data": {
      "text/plain": [
       "brands_tags\n",
       "carrefour                                 5819\n",
       "auchan                                    4316\n",
       "u                                         2215\n",
       "nestle                                    2028\n",
       "casino                                    1874\n",
       "                                          ... \n",
       "la-p-tite-fabrique-des-alpes                 1\n",
       "foie-gras-de-canard                          1\n",
       "les-3-terres,domaine-caroline-bonnefoy       1\n",
       "e-p-f                                        1\n",
       "vitaflor,milical                             1\n",
       "Name: count, Length: 35956, dtype: int64"
      ]
     },
     "execution_count": 69,
     "metadata": {},
     "output_type": "execute_result"
    }
   ],
   "source": [
    "count_nut_miss = df_Wmarques.brands_tags.loc[(df_Wmarques.ecoscore_grade.isin(['unknown'])) | (df_Wmarques.ecoscore_grade.isnull()) ].value_counts()\n",
    "count_nut_miss"
   ]
  },
  {
   "cell_type": "markdown",
   "id": "cb422677-b3c1-4d89-a8cc-720411669641",
   "metadata": {},
   "source": [
    "Ratio pour d'ecoscore absent pour les 10 marques présentants le plus de produits sans ecoscore"
   ]
  },
  {
   "cell_type": "code",
   "execution_count": 70,
   "id": "7ba485bf-cebe-43df-a0f0-c0086047b266",
   "metadata": {},
   "outputs": [
    {
     "data": {
      "text/plain": [
       "brands_tags\n",
       "charal          0.826026\n",
       "nestle          0.762693\n",
       "thiriet         0.626249\n",
       "picard          0.541440\n",
       "carrefour       0.471900\n",
       "auchan          0.399149\n",
       "casino          0.389686\n",
       "leader-price    0.364632\n",
       "cora            0.354500\n",
       "u               0.339724\n",
       "Name: count, dtype: float64"
      ]
     },
     "execution_count": 70,
     "metadata": {},
     "output_type": "execute_result"
    }
   ],
   "source": [
    "ratio_eco_brand = count_nut_miss[:10] / df_Wmarques.brands_tags[df_Wmarques.brands_tags.isin(count_nut_miss[:10].index)].value_counts()\n",
    "ratio_eco_brand.sort_values(ascending=False)"
   ]
  },
  {
   "cell_type": "markdown",
   "id": "0a2ad50d-7bd3-4ccc-948c-e99e9722991f",
   "metadata": {},
   "source": [
    "## Marques qui utilisent le plus d'ecoscore"
   ]
  },
  {
   "cell_type": "code",
   "execution_count": 71,
   "id": "ac4135c4-18c7-46be-ab5f-2e7dff946e57",
   "metadata": {},
   "outputs": [
    {
     "data": {
      "text/plain": [
       "array(['d', 'unknown', 'c', 'b', 'not-applicable', 'a', 'e', nan],\n",
       "      dtype=object)"
      ]
     },
     "execution_count": 71,
     "metadata": {},
     "output_type": "execute_result"
    }
   ],
   "source": [
    "df_Wmarques.ecoscore_grade.unique()"
   ]
  },
  {
   "cell_type": "code",
   "execution_count": 72,
   "id": "67e589c0-66b9-4e47-82b4-3807b3edc6a6",
   "metadata": {},
   "outputs": [
    {
     "data": {
      "text/plain": [
       "brands_tags\n",
       "carrefour                             6512\n",
       "auchan                                6497\n",
       "u                                     4305\n",
       "casino                                2935\n",
       "leader-price                          2842\n",
       "                                      ... \n",
       "zielinger                                1\n",
       "collin-bourrisset                        1\n",
       "collin-bourisset                         1\n",
       "signe-vignerons,chateau-de-la-prat       1\n",
       "taf                                      1\n",
       "Name: count, Length: 34727, dtype: int64"
      ]
     },
     "execution_count": 72,
     "metadata": {},
     "output_type": "execute_result"
    }
   ],
   "source": [
    "count_nut_W = df_Wmarques.brands_tags.loc[df_Wmarques.ecoscore_grade.isin(['d','c', 'b', 'not-applicable', 'a', 'e'])].value_counts()\n",
    "count_nut_W"
   ]
  },
  {
   "cell_type": "code",
   "execution_count": 73,
   "id": "cc358df4-66fe-40ec-b9dd-17a3779a20fd",
   "metadata": {},
   "outputs": [
    {
     "data": {
      "text/plain": [
       "brands_tags\n",
       "belle-france    0.827442\n",
       "franprix        0.715640\n",
       "le-gaulois      0.696796\n",
       "u               0.660276\n",
       "cora            0.645500\n",
       "leader-price    0.635368\n",
       "monoprix        0.626266\n",
       "casino          0.610314\n",
       "auchan          0.600851\n",
       "carrefour       0.528100\n",
       "Name: count, dtype: float64"
      ]
     },
     "execution_count": 73,
     "metadata": {},
     "output_type": "execute_result"
    }
   ],
   "source": [
    "ratio_eco_good = count_nut_W[:10] / df_Wmarques.brands_tags[df_Wmarques.brands_tags.isin(count_nut_W[:10].index)].value_counts()\n",
    "ratio_eco_good.sort_values(ascending=False)"
   ]
  },
  {
   "cell_type": "markdown",
   "id": "f363b0d4-2c2a-4990-8e63-0f3227240dbb",
   "metadata": {},
   "source": [
    "# Quelles sont les marques qui semblent le plus respectueuses de l'environnement ? le moins?"
   ]
  },
  {
   "cell_type": "code",
   "execution_count": 78,
   "id": "f383ec7e-1f51-4dab-9694-bb73d6927795",
   "metadata": {},
   "outputs": [
    {
     "data": {
      "text/html": [
       "<div>\n",
       "<style scoped>\n",
       "    .dataframe tbody tr th:only-of-type {\n",
       "        vertical-align: middle;\n",
       "    }\n",
       "\n",
       "    .dataframe tbody tr th {\n",
       "        vertical-align: top;\n",
       "    }\n",
       "\n",
       "    .dataframe thead th {\n",
       "        text-align: right;\n",
       "    }\n",
       "</style>\n",
       "<table border=\"1\" class=\"dataframe\">\n",
       "  <thead>\n",
       "    <tr style=\"text-align: right;\">\n",
       "      <th></th>\n",
       "      <th>brands_tags</th>\n",
       "      <th>est_plastique</th>\n",
       "      <th>ecoscore_grade</th>\n",
       "      <th>est_palm</th>\n",
       "      <th>est_cocoa</th>\n",
       "    </tr>\n",
       "  </thead>\n",
       "  <tbody>\n",
       "    <tr>\n",
       "      <th>0</th>\n",
       "      <td>danone</td>\n",
       "      <td>False</td>\n",
       "      <td>d</td>\n",
       "      <td>False</td>\n",
       "      <td>False</td>\n",
       "    </tr>\n",
       "    <tr>\n",
       "      <th>1</th>\n",
       "      <td>danone</td>\n",
       "      <td>True</td>\n",
       "      <td>unknown</td>\n",
       "      <td>False</td>\n",
       "      <td>False</td>\n",
       "    </tr>\n",
       "    <tr>\n",
       "      <th>2</th>\n",
       "      <td>danone</td>\n",
       "      <td>False</td>\n",
       "      <td>d</td>\n",
       "      <td>False</td>\n",
       "      <td>False</td>\n",
       "    </tr>\n",
       "    <tr>\n",
       "      <th>3</th>\n",
       "      <td>danone</td>\n",
       "      <td>False</td>\n",
       "      <td>unknown</td>\n",
       "      <td>False</td>\n",
       "      <td>False</td>\n",
       "    </tr>\n",
       "    <tr>\n",
       "      <th>4</th>\n",
       "      <td>danone</td>\n",
       "      <td>False</td>\n",
       "      <td>unknown</td>\n",
       "      <td>False</td>\n",
       "      <td>False</td>\n",
       "    </tr>\n",
       "  </tbody>\n",
       "</table>\n",
       "</div>"
      ],
      "text/plain": [
       "  brands_tags  est_plastique ecoscore_grade  est_palm  est_cocoa\n",
       "0      danone          False              d     False      False\n",
       "1      danone           True        unknown     False      False\n",
       "2      danone          False              d     False      False\n",
       "3      danone          False        unknown     False      False\n",
       "4      danone          False        unknown     False      False"
      ]
     },
     "execution_count": 78,
     "metadata": {},
     "output_type": "execute_result"
    }
   ],
   "source": [
    "col_indicatrice= ['brands_tags','est_plastique','ecoscore_grade','est_palm','est_cocoa']\n",
    "df_env_indic = df_Wmarques[col_indicatrice]\n",
    "df_env_indic.head()"
   ]
  },
  {
   "cell_type": "markdown",
   "id": "d13e8214-6024-4b06-af04-b5f9582d9dc9",
   "metadata": {},
   "source": [
    "On peut penser à Ordinal Encoder l'ecoscore ?"
   ]
  },
  {
   "cell_type": "code",
   "execution_count": 80,
   "id": "9ffb3591-c7ef-4d04-af2e-d79c975c1705",
   "metadata": {},
   "outputs": [
    {
     "name": "stdout",
     "output_type": "stream",
     "text": [
      "<class 'pandas.core.frame.DataFrame'>\n",
      "Index: 437571 entries, 0 to 849594\n",
      "Data columns (total 5 columns):\n",
      " #   Column          Non-Null Count   Dtype \n",
      "---  ------          --------------   ----- \n",
      " 0   brands_tags     437571 non-null  object\n",
      " 1   est_plastique   437571 non-null  bool  \n",
      " 2   ecoscore_grade  437503 non-null  object\n",
      " 3   est_palm        437571 non-null  bool  \n",
      " 4   est_cocoa       437571 non-null  bool  \n",
      "dtypes: bool(3), object(2)\n",
      "memory usage: 27.4+ MB\n"
     ]
    }
   ],
   "source": [
    "df_env_indic.info()"
   ]
  },
  {
   "cell_type": "code",
   "execution_count": null,
   "id": "20ec1380-c03e-42bf-bdd9-f9111cf75086",
   "metadata": {},
   "outputs": [],
   "source": [
    "def col_one_hot_encode(low_cardinality_cols):\n",
    "    # Apply one-hot encoder to each column with categorical data\n",
    "    # On pourra modifier le handle_unknown ou différents paramètres de OneHotEncoder\n",
    "    OH_encoder = OneHotEncoder(handle_unknown='ignore', sparse=False)\n",
    "    OH_cols_train = pd.DataFrame(OH_encoder.fit_transform(X_train[low_cardinality_cols]))\n",
    "    OH_cols_valid = pd.DataFrame(OH_encoder.transform(X_valid[low_cardinality_cols]))\n",
    "\n",
    "    # One-hot encoding removed index; put it back\n",
    "    OH_cols_train.index = X_train.index\n",
    "    OH_cols_valid.index = X_valid.index\n",
    "\n",
    "    # Remove categorical columns (will replace with one-hot encoding)\n",
    "    num_X_train = X_train.drop(object_cols, axis=1)\n",
    "    num_X_valid = X_valid.drop(object_cols, axis=1)\n",
    "\n",
    "    # Add one-hot encoded columns to numerical features\n",
    "    OH_X_train = pd.concat([num_X_train, OH_cols_train], axis=1)\n",
    "    OH_X_valid = pd.concat([num_X_valid, OH_cols_valid], axis=1)\n",
    "\n",
    "    # Ensure all columns have string type\n",
    "    OH_X_train.columns = OH_X_train.columns.astype(str)\n",
    "    OH_X_valid.columns = OH_X_valid.columns.astype(str)\n",
    "    return OH_X_train, OH_X_valid "
   ]
  }
 ],
 "metadata": {
  "kernelspec": {
   "display_name": "Python 3 (ipykernel)",
   "language": "python",
   "name": "python3"
  },
  "language_info": {
   "codemirror_mode": {
    "name": "ipython",
    "version": 3
   },
   "file_extension": ".py",
   "mimetype": "text/x-python",
   "name": "python",
   "nbconvert_exporter": "python",
   "pygments_lexer": "ipython3",
   "version": "3.11.3"
  }
 },
 "nbformat": 4,
 "nbformat_minor": 5
}
